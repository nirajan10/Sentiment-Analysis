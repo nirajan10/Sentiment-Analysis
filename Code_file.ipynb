{
 "cells": [
  {
   "cell_type": "markdown",
   "id": "d97f1ec6",
   "metadata": {},
   "source": [
    "# Task: Sentiment Analysis for Movie Reviews\n",
    "\n",
    "### Objective:\n",
    "Develop a robust machine learning model capable of accurately classifying movie\n",
    "reviews as positive or negative based on the textual content."
   ]
  },
  {
   "cell_type": "markdown",
   "id": "9e0b6b2e",
   "metadata": {},
   "source": [
    "### About Dataset\n",
    "IMDB dataset having 50K movie reviews for natural language processing or Text analytics. This is a dataset for binary sentiment classification containing substantially more data than previous benchmark datasets.<br><br>\n",
    "**Link:** <a>https://www.kaggle.com/datasets/lakshmi25npathi/imdb-dataset-of-50k-movie-reviews</a>"
   ]
  },
  {
   "cell_type": "markdown",
   "id": "38656af2",
   "metadata": {},
   "source": [
    "#### Importing necessary libraries"
   ]
  },
  {
   "cell_type": "code",
   "execution_count": 176,
   "id": "b8ecae86",
   "metadata": {},
   "outputs": [],
   "source": [
    "import pandas as pd\n",
    "import numpy as np\n",
    "import matplotlib.pyplot as plt\n",
    "import seaborn as sns\n",
    "from bs4 import BeautifulSoup\n",
    "import nltk, re, os, string, pickle\n",
    "from nltk.corpus import stopwords\n",
    "from nltk.stem import WordNetLemmatizer\n",
    "from sklearn.feature_extraction.text import TfidfVectorizer\n",
    "from sklearn.model_selection import train_test_split\n",
    "import sklearn.metrics as metrics\n",
    "from sklearn.linear_model import LogisticRegression\n",
    "from sklearn.svm import LinearSVC\n",
    "from sklearn.model_selection import GridSearchCV\n",
    "\n",
    "%matplotlib inline"
   ]
  },
  {
   "cell_type": "markdown",
   "id": "4f77bdf7",
   "metadata": {},
   "source": [
    "#### Importing dataset"
   ]
  },
  {
   "cell_type": "code",
   "execution_count": 2,
   "id": "1770e353",
   "metadata": {},
   "outputs": [],
   "source": [
    "dataset = pd.read_csv(\"./data/IMDB Dataset.csv\")"
   ]
  },
  {
   "cell_type": "markdown",
   "id": "6d2a965e",
   "metadata": {},
   "source": [
    "### Exploratory Data Analysis (EDA)"
   ]
  },
  {
   "cell_type": "code",
   "execution_count": 3,
   "id": "b794a374",
   "metadata": {},
   "outputs": [
    {
     "data": {
      "text/html": [
       "<div>\n",
       "<style scoped>\n",
       "    .dataframe tbody tr th:only-of-type {\n",
       "        vertical-align: middle;\n",
       "    }\n",
       "\n",
       "    .dataframe tbody tr th {\n",
       "        vertical-align: top;\n",
       "    }\n",
       "\n",
       "    .dataframe thead th {\n",
       "        text-align: right;\n",
       "    }\n",
       "</style>\n",
       "<table border=\"1\" class=\"dataframe\">\n",
       "  <thead>\n",
       "    <tr style=\"text-align: right;\">\n",
       "      <th></th>\n",
       "      <th>review</th>\n",
       "      <th>sentiment</th>\n",
       "    </tr>\n",
       "  </thead>\n",
       "  <tbody>\n",
       "    <tr>\n",
       "      <th>0</th>\n",
       "      <td>One of the other reviewers has mentioned that ...</td>\n",
       "      <td>positive</td>\n",
       "    </tr>\n",
       "    <tr>\n",
       "      <th>1</th>\n",
       "      <td>A wonderful little production. &lt;br /&gt;&lt;br /&gt;The...</td>\n",
       "      <td>positive</td>\n",
       "    </tr>\n",
       "    <tr>\n",
       "      <th>2</th>\n",
       "      <td>I thought this was a wonderful way to spend ti...</td>\n",
       "      <td>positive</td>\n",
       "    </tr>\n",
       "    <tr>\n",
       "      <th>3</th>\n",
       "      <td>Basically there's a family where a little boy ...</td>\n",
       "      <td>negative</td>\n",
       "    </tr>\n",
       "    <tr>\n",
       "      <th>4</th>\n",
       "      <td>Petter Mattei's \"Love in the Time of Money\" is...</td>\n",
       "      <td>positive</td>\n",
       "    </tr>\n",
       "  </tbody>\n",
       "</table>\n",
       "</div>"
      ],
      "text/plain": [
       "                                              review sentiment\n",
       "0  One of the other reviewers has mentioned that ...  positive\n",
       "1  A wonderful little production. <br /><br />The...  positive\n",
       "2  I thought this was a wonderful way to spend ti...  positive\n",
       "3  Basically there's a family where a little boy ...  negative\n",
       "4  Petter Mattei's \"Love in the Time of Money\" is...  positive"
      ]
     },
     "execution_count": 3,
     "metadata": {},
     "output_type": "execute_result"
    }
   ],
   "source": [
    "dataset.head()"
   ]
  },
  {
   "cell_type": "code",
   "execution_count": 4,
   "id": "55cf7c77",
   "metadata": {},
   "outputs": [
    {
     "name": "stdout",
     "output_type": "stream",
     "text": [
      "<class 'pandas.core.frame.DataFrame'>\n",
      "RangeIndex: 50000 entries, 0 to 49999\n",
      "Data columns (total 2 columns):\n",
      " #   Column     Non-Null Count  Dtype \n",
      "---  ------     --------------  ----- \n",
      " 0   review     50000 non-null  object\n",
      " 1   sentiment  50000 non-null  object\n",
      "dtypes: object(2)\n",
      "memory usage: 781.4+ KB\n"
     ]
    }
   ],
   "source": [
    "dataset.info()"
   ]
  },
  {
   "cell_type": "code",
   "execution_count": 5,
   "id": "66cda6f8",
   "metadata": {},
   "outputs": [
    {
     "data": {
      "text/plain": [
       "positive    25000\n",
       "negative    25000\n",
       "Name: sentiment, dtype: int64"
      ]
     },
     "execution_count": 5,
     "metadata": {},
     "output_type": "execute_result"
    }
   ],
   "source": [
    "dataset['sentiment'].value_counts()"
   ]
  },
  {
   "cell_type": "code",
   "execution_count": 11,
   "id": "7c177cd1",
   "metadata": {},
   "outputs": [
    {
     "data": {
      "image/png": "[encoded data removed]",
      "text/plain": [
       "<Figure size 640x480 with 1 Axes>"
      ]
     },
     "metadata": {},
     "output_type": "display_data"
    }
   ],
   "source": [
    "fig, ax = plt.subplots()\n",
    "\n",
    "dataset['sentiment'].value_counts().plot(kind = 'bar', ax = ax, color = ['steelBlue', 'DarkOrange'])\n",
    "ax.set_title('Sentiment', fontsize = 18, fontweight = 'bold')\n",
    "ax.set_ylabel('Count', fontsize = 13)\n",
    "ax.set_xticklabels(ax.get_xticklabels(), rotation=0);"
   ]
  },
  {
   "cell_type": "markdown",
   "id": "de6ef3ad",
   "metadata": {},
   "source": [
    "There are two labels for our target columns and we can see our dataset is completely balanced."
   ]
  },
  {
   "cell_type": "markdown",
   "id": "687a5ee0",
   "metadata": {},
   "source": [
    "### Data Cleaning"
   ]
  },
  {
   "cell_type": "markdown",
   "id": "672902cc",
   "metadata": {},
   "source": [
    "Data cleaning process includes following tasks:<br>\n",
    "1. Removal of HTML contents.\n",
    "2. Removal of punctuations.\n",
    "3. Lowercasing the text.\n",
    "4. Removal of stopwords.\n",
    "5. Stemming/Lemmatization.\n",
    "6. Vectorization"
   ]
  },
  {
   "cell_type": "markdown",
   "id": "0d0bcede",
   "metadata": {},
   "source": [
    "Let's try to do data cleaning in single text data and then later apply it to all dataset."
   ]
  },
  {
   "cell_type": "code",
   "execution_count": 12,
   "id": "fbc15b95",
   "metadata": {},
   "outputs": [
    {
     "data": {
      "text/plain": [
       "\"One of the other reviewers has mentioned that after watching just 1 Oz episode you'll be hooked. They are right, as this is exactly what happened with me.<br /><br />The first thing that struck me about Oz was its brutality and unflinching scenes of violence, which set in right from the word GO. Trust me, this is not a show for the faint hearted or timid. This show pulls no punches with regards to drugs, sex or violence. Its is hardcore, in the classic use of the word.<br /><br />It is called OZ as that is the nickname given to the Oswald Maximum Security State Penitentary. It focuses mainly on Emerald City, an experimental section of the prison where all the cells have glass fronts and face inwards, so privacy is not high on the agenda. Em City is home to many..Aryans, Muslims, gangstas, Latinos, Christians, Italians, Irish and more....so scuffles, death stares, dodgy dealings and shady agreements are never far away.<br /><br />I would say the main appeal of the show is due to the fact that it goes where other shows wouldn't dare. Forget pretty pictures painted for mainstream audiences, forget charm, forget romance...OZ doesn't mess around. The first episode I ever saw struck me as so nasty it was surreal, I couldn't say I was ready for it, but as I watched more, I developed a taste for Oz, and got accustomed to the high levels of graphic violence. Not just violence, but injustice (crooked guards who'll be sold out for a nickel, inmates who'll kill on order and get away with it, well mannered, middle class inmates being turned into prison bitches due to their lack of street skills or prison experience) Watching Oz, you may become comfortable with what is uncomfortable viewing....thats if you can get in touch with your darker side.\""
      ]
     },
     "execution_count": 12,
     "metadata": {},
     "output_type": "execute_result"
    }
   ],
   "source": [
    "review = dataset['review'][0]\n",
    "review"
   ]
  },
  {
   "cell_type": "markdown",
   "id": "8de72a6f",
   "metadata": {},
   "source": [
    "**1. Removal of HTML contents**"
   ]
  },
  {
   "cell_type": "code",
   "execution_count": 14,
   "id": "0f915bb8",
   "metadata": {},
   "outputs": [
    {
     "data": {
      "text/plain": [
       "\"One of the other reviewers has mentioned that after watching just 1 Oz episode you'll be hooked. They are right, as this is exactly what happened with me.The first thing that struck me about Oz was its brutality and unflinching scenes of violence, which set in right from the word GO. Trust me, this is not a show for the faint hearted or timid. This show pulls no punches with regards to drugs, sex or violence. Its is hardcore, in the classic use of the word.It is called OZ as that is the nickname given to the Oswald Maximum Security State Penitentary. It focuses mainly on Emerald City, an experimental section of the prison where all the cells have glass fronts and face inwards, so privacy is not high on the agenda. Em City is home to many..Aryans, Muslims, gangstas, Latinos, Christians, Italians, Irish and more....so scuffles, death stares, dodgy dealings and shady agreements are never far away.I would say the main appeal of the show is due to the fact that it goes where other shows wouldn't dare. Forget pretty pictures painted for mainstream audiences, forget charm, forget romance...OZ doesn't mess around. The first episode I ever saw struck me as so nasty it was surreal, I couldn't say I was ready for it, but as I watched more, I developed a taste for Oz, and got accustomed to the high levels of graphic violence. Not just violence, but injustice (crooked guards who'll be sold out for a nickel, inmates who'll kill on order and get away with it, well mannered, middle class inmates being turned into prison bitches due to their lack of street skills or prison experience) Watching Oz, you may become comfortable with what is uncomfortable viewing....thats if you can get in touch with your darker side.\""
      ]
     },
     "execution_count": 14,
     "metadata": {},
     "output_type": "execute_result"
    }
   ],
   "source": [
    "soup = BeautifulSoup(review, \"html.parser\")\n",
    "review = soup.get_text()\n",
    "review"
   ]
  },
  {
   "cell_type": "markdown",
   "id": "c5f1ba60",
   "metadata": {},
   "source": [
    "**2. Removal of punctuations**"
   ]
  },
  {
   "cell_type": "code",
   "execution_count": 17,
   "id": "50f51992",
   "metadata": {},
   "outputs": [
    {
     "data": {
      "text/plain": [
       "'One of the other reviewers has mentioned that after watching just   Oz episode you ll be hooked  They are right  as this is exactly what happened with me The first thing that struck me about Oz was its brutality and unflinching scenes of violence  which set in right from the word GO  Trust me  this is not a show for the faint hearted or timid  This show pulls no punches with regards to drugs  sex or violence  Its is hardcore  in the classic use of the word It is called OZ as that is the nickname given to the Oswald Maximum Security State Penitentary  It focuses mainly on Emerald City  an experimental section of the prison where all the cells have glass fronts and face inwards  so privacy is not high on the agenda  Em City is home to many  Aryans  Muslims  gangstas  Latinos  Christians  Italians  Irish and more    so scuffles  death stares  dodgy dealings and shady agreements are never far away I would say the main appeal of the show is due to the fact that it goes where other shows wouldn t dare  Forget pretty pictures painted for mainstream audiences  forget charm  forget romance   OZ doesn t mess around  The first episode I ever saw struck me as so nasty it was surreal  I couldn t say I was ready for it  but as I watched more  I developed a taste for Oz  and got accustomed to the high levels of graphic violence  Not just violence  but injustice  crooked guards who ll be sold out for a nickel  inmates who ll kill on order and get away with it  well mannered  middle class inmates being turned into prison bitches due to their lack of street skills or prison experience  Watching Oz  you may become comfortable with what is uncomfortable viewing    thats if you can get in touch with your darker side '"
      ]
     },
     "execution_count": 17,
     "metadata": {},
     "output_type": "execute_result"
    }
   ],
   "source": [
    "review = re.sub('\\[[^]]*\\]', ' ', review)\n",
    "review = re.sub('[^a-zA-Z]', ' ', review)\n",
    "review"
   ]
  },
  {
   "cell_type": "markdown",
   "id": "cb63b480",
   "metadata": {},
   "source": [
    "**3. Lowercasing the text**"
   ]
  },
  {
   "cell_type": "code",
   "execution_count": 18,
   "id": "8ef6464e",
   "metadata": {},
   "outputs": [
    {
     "data": {
      "text/plain": [
       "'one of the other reviewers has mentioned that after watching just   oz episode you ll be hooked  they are right  as this is exactly what happened with me the first thing that struck me about oz was its brutality and unflinching scenes of violence  which set in right from the word go  trust me  this is not a show for the faint hearted or timid  this show pulls no punches with regards to drugs  sex or violence  its is hardcore  in the classic use of the word it is called oz as that is the nickname given to the oswald maximum security state penitentary  it focuses mainly on emerald city  an experimental section of the prison where all the cells have glass fronts and face inwards  so privacy is not high on the agenda  em city is home to many  aryans  muslims  gangstas  latinos  christians  italians  irish and more    so scuffles  death stares  dodgy dealings and shady agreements are never far away i would say the main appeal of the show is due to the fact that it goes where other shows wouldn t dare  forget pretty pictures painted for mainstream audiences  forget charm  forget romance   oz doesn t mess around  the first episode i ever saw struck me as so nasty it was surreal  i couldn t say i was ready for it  but as i watched more  i developed a taste for oz  and got accustomed to the high levels of graphic violence  not just violence  but injustice  crooked guards who ll be sold out for a nickel  inmates who ll kill on order and get away with it  well mannered  middle class inmates being turned into prison bitches due to their lack of street skills or prison experience  watching oz  you may become comfortable with what is uncomfortable viewing    thats if you can get in touch with your darker side '"
      ]
     },
     "execution_count": 18,
     "metadata": {},
     "output_type": "execute_result"
    }
   ],
   "source": [
    "review = review.lower()\n",
    "review"
   ]
  },
  {
   "cell_type": "markdown",
   "id": "a36a2c6a",
   "metadata": {},
   "source": [
    "**4. Removal of stopwords**<br><br>\n",
    "Splitting the words into list."
   ]
  },
  {
   "cell_type": "code",
   "execution_count": 19,
   "id": "6d7578f5",
   "metadata": {},
   "outputs": [
    {
     "data": {
      "text/plain": [
       "['one',\n",
       " 'of',\n",
       " 'the',\n",
       " 'other',\n",
       " 'reviewers',\n",
       " 'has',\n",
       " 'mentioned',\n",
       " 'that',\n",
       " 'after',\n",
       " 'watching',\n",
       " 'just',\n",
       " 'oz',\n",
       " 'episode',\n",
       " 'you',\n",
       " 'll',\n",
       " 'be',\n",
       " 'hooked',\n",
       " 'they',\n",
       " 'are',\n",
       " 'right',\n",
       " 'as',\n",
       " 'this',\n",
       " 'is',\n",
       " 'exactly',\n",
       " 'what',\n",
       " 'happened',\n",
       " 'with',\n",
       " 'me',\n",
       " 'the',\n",
       " 'first',\n",
       " 'thing',\n",
       " 'that',\n",
       " 'struck',\n",
       " 'me',\n",
       " 'about',\n",
       " 'oz',\n",
       " 'was',\n",
       " 'its',\n",
       " 'brutality',\n",
       " 'and',\n",
       " 'unflinching',\n",
       " 'scenes',\n",
       " 'of',\n",
       " 'violence',\n",
       " 'which',\n",
       " 'set',\n",
       " 'in',\n",
       " 'right',\n",
       " 'from',\n",
       " 'the',\n",
       " 'word',\n",
       " 'go',\n",
       " 'trust',\n",
       " 'me',\n",
       " 'this',\n",
       " 'is',\n",
       " 'not',\n",
       " 'a',\n",
       " 'show',\n",
       " 'for',\n",
       " 'the',\n",
       " 'faint',\n",
       " 'hearted',\n",
       " 'or',\n",
       " 'timid',\n",
       " 'this',\n",
       " 'show',\n",
       " 'pulls',\n",
       " 'no',\n",
       " 'punches',\n",
       " 'with',\n",
       " 'regards',\n",
       " 'to',\n",
       " 'drugs',\n",
       " 'sex',\n",
       " 'or',\n",
       " 'violence',\n",
       " 'its',\n",
       " 'is',\n",
       " 'hardcore',\n",
       " 'in',\n",
       " 'the',\n",
       " 'classic',\n",
       " 'use',\n",
       " 'of',\n",
       " 'the',\n",
       " 'word',\n",
       " 'it',\n",
       " 'is',\n",
       " 'called',\n",
       " 'oz',\n",
       " 'as',\n",
       " 'that',\n",
       " 'is',\n",
       " 'the',\n",
       " 'nickname',\n",
       " 'given',\n",
       " 'to',\n",
       " 'the',\n",
       " 'oswald',\n",
       " 'maximum',\n",
       " 'security',\n",
       " 'state',\n",
       " 'penitentary',\n",
       " 'it',\n",
       " 'focuses',\n",
       " 'mainly',\n",
       " 'on',\n",
       " 'emerald',\n",
       " 'city',\n",
       " 'an',\n",
       " 'experimental',\n",
       " 'section',\n",
       " 'of',\n",
       " 'the',\n",
       " 'prison',\n",
       " 'where',\n",
       " 'all',\n",
       " 'the',\n",
       " 'cells',\n",
       " 'have',\n",
       " 'glass',\n",
       " 'fronts',\n",
       " 'and',\n",
       " 'face',\n",
       " 'inwards',\n",
       " 'so',\n",
       " 'privacy',\n",
       " 'is',\n",
       " 'not',\n",
       " 'high',\n",
       " 'on',\n",
       " 'the',\n",
       " 'agenda',\n",
       " 'em',\n",
       " 'city',\n",
       " 'is',\n",
       " 'home',\n",
       " 'to',\n",
       " 'many',\n",
       " 'aryans',\n",
       " 'muslims',\n",
       " 'gangstas',\n",
       " 'latinos',\n",
       " 'christians',\n",
       " 'italians',\n",
       " 'irish',\n",
       " 'and',\n",
       " 'more',\n",
       " 'so',\n",
       " 'scuffles',\n",
       " 'death',\n",
       " 'stares',\n",
       " 'dodgy',\n",
       " 'dealings',\n",
       " 'and',\n",
       " 'shady',\n",
       " 'agreements',\n",
       " 'are',\n",
       " 'never',\n",
       " 'far',\n",
       " 'away',\n",
       " 'i',\n",
       " 'would',\n",
       " 'say',\n",
       " 'the',\n",
       " 'main',\n",
       " 'appeal',\n",
       " 'of',\n",
       " 'the',\n",
       " 'show',\n",
       " 'is',\n",
       " 'due',\n",
       " 'to',\n",
       " 'the',\n",
       " 'fact',\n",
       " 'that',\n",
       " 'it',\n",
       " 'goes',\n",
       " 'where',\n",
       " 'other',\n",
       " 'shows',\n",
       " 'wouldn',\n",
       " 't',\n",
       " 'dare',\n",
       " 'forget',\n",
       " 'pretty',\n",
       " 'pictures',\n",
       " 'painted',\n",
       " 'for',\n",
       " 'mainstream',\n",
       " 'audiences',\n",
       " 'forget',\n",
       " 'charm',\n",
       " 'forget',\n",
       " 'romance',\n",
       " 'oz',\n",
       " 'doesn',\n",
       " 't',\n",
       " 'mess',\n",
       " 'around',\n",
       " 'the',\n",
       " 'first',\n",
       " 'episode',\n",
       " 'i',\n",
       " 'ever',\n",
       " 'saw',\n",
       " 'struck',\n",
       " 'me',\n",
       " 'as',\n",
       " 'so',\n",
       " 'nasty',\n",
       " 'it',\n",
       " 'was',\n",
       " 'surreal',\n",
       " 'i',\n",
       " 'couldn',\n",
       " 't',\n",
       " 'say',\n",
       " 'i',\n",
       " 'was',\n",
       " 'ready',\n",
       " 'for',\n",
       " 'it',\n",
       " 'but',\n",
       " 'as',\n",
       " 'i',\n",
       " 'watched',\n",
       " 'more',\n",
       " 'i',\n",
       " 'developed',\n",
       " 'a',\n",
       " 'taste',\n",
       " 'for',\n",
       " 'oz',\n",
       " 'and',\n",
       " 'got',\n",
       " 'accustomed',\n",
       " 'to',\n",
       " 'the',\n",
       " 'high',\n",
       " 'levels',\n",
       " 'of',\n",
       " 'graphic',\n",
       " 'violence',\n",
       " 'not',\n",
       " 'just',\n",
       " 'violence',\n",
       " 'but',\n",
       " 'injustice',\n",
       " 'crooked',\n",
       " 'guards',\n",
       " 'who',\n",
       " 'll',\n",
       " 'be',\n",
       " 'sold',\n",
       " 'out',\n",
       " 'for',\n",
       " 'a',\n",
       " 'nickel',\n",
       " 'inmates',\n",
       " 'who',\n",
       " 'll',\n",
       " 'kill',\n",
       " 'on',\n",
       " 'order',\n",
       " 'and',\n",
       " 'get',\n",
       " 'away',\n",
       " 'with',\n",
       " 'it',\n",
       " 'well',\n",
       " 'mannered',\n",
       " 'middle',\n",
       " 'class',\n",
       " 'inmates',\n",
       " 'being',\n",
       " 'turned',\n",
       " 'into',\n",
       " 'prison',\n",
       " 'bitches',\n",
       " 'due',\n",
       " 'to',\n",
       " 'their',\n",
       " 'lack',\n",
       " 'of',\n",
       " 'street',\n",
       " 'skills',\n",
       " 'or',\n",
       " 'prison',\n",
       " 'experience',\n",
       " 'watching',\n",
       " 'oz',\n",
       " 'you',\n",
       " 'may',\n",
       " 'become',\n",
       " 'comfortable',\n",
       " 'with',\n",
       " 'what',\n",
       " 'is',\n",
       " 'uncomfortable',\n",
       " 'viewing',\n",
       " 'thats',\n",
       " 'if',\n",
       " 'you',\n",
       " 'can',\n",
       " 'get',\n",
       " 'in',\n",
       " 'touch',\n",
       " 'with',\n",
       " 'your',\n",
       " 'darker',\n",
       " 'side']"
      ]
     },
     "execution_count": 19,
     "metadata": {},
     "output_type": "execute_result"
    }
   ],
   "source": [
    "review = review.split()\n",
    "review"
   ]
  },
  {
   "cell_type": "code",
   "execution_count": 20,
   "id": "348f60b7",
   "metadata": {},
   "outputs": [
    {
     "data": {
      "text/plain": [
       "['one',\n",
       " 'reviewers',\n",
       " 'mentioned',\n",
       " 'watching',\n",
       " 'oz',\n",
       " 'episode',\n",
       " 'hooked',\n",
       " 'right',\n",
       " 'exactly',\n",
       " 'happened',\n",
       " 'first',\n",
       " 'thing',\n",
       " 'struck',\n",
       " 'oz',\n",
       " 'brutality',\n",
       " 'unflinching',\n",
       " 'scenes',\n",
       " 'violence',\n",
       " 'set',\n",
       " 'right',\n",
       " 'word',\n",
       " 'go',\n",
       " 'trust',\n",
       " 'show',\n",
       " 'faint',\n",
       " 'hearted',\n",
       " 'timid',\n",
       " 'show',\n",
       " 'pulls',\n",
       " 'punches',\n",
       " 'regards',\n",
       " 'drugs',\n",
       " 'sex',\n",
       " 'violence',\n",
       " 'hardcore',\n",
       " 'classic',\n",
       " 'use',\n",
       " 'word',\n",
       " 'called',\n",
       " 'oz',\n",
       " 'nickname',\n",
       " 'given',\n",
       " 'oswald',\n",
       " 'maximum',\n",
       " 'security',\n",
       " 'state',\n",
       " 'penitentary',\n",
       " 'focuses',\n",
       " 'mainly',\n",
       " 'emerald',\n",
       " 'city',\n",
       " 'experimental',\n",
       " 'section',\n",
       " 'prison',\n",
       " 'cells',\n",
       " 'glass',\n",
       " 'fronts',\n",
       " 'face',\n",
       " 'inwards',\n",
       " 'privacy',\n",
       " 'high',\n",
       " 'agenda',\n",
       " 'em',\n",
       " 'city',\n",
       " 'home',\n",
       " 'many',\n",
       " 'aryans',\n",
       " 'muslims',\n",
       " 'gangstas',\n",
       " 'latinos',\n",
       " 'christians',\n",
       " 'italians',\n",
       " 'irish',\n",
       " 'scuffles',\n",
       " 'death',\n",
       " 'stares',\n",
       " 'dodgy',\n",
       " 'dealings',\n",
       " 'shady',\n",
       " 'agreements',\n",
       " 'never',\n",
       " 'far',\n",
       " 'away',\n",
       " 'would',\n",
       " 'say',\n",
       " 'main',\n",
       " 'appeal',\n",
       " 'show',\n",
       " 'due',\n",
       " 'fact',\n",
       " 'goes',\n",
       " 'shows',\n",
       " 'dare',\n",
       " 'forget',\n",
       " 'pretty',\n",
       " 'pictures',\n",
       " 'painted',\n",
       " 'mainstream',\n",
       " 'audiences',\n",
       " 'forget',\n",
       " 'charm',\n",
       " 'forget',\n",
       " 'romance',\n",
       " 'oz',\n",
       " 'mess',\n",
       " 'around',\n",
       " 'first',\n",
       " 'episode',\n",
       " 'ever',\n",
       " 'saw',\n",
       " 'struck',\n",
       " 'nasty',\n",
       " 'surreal',\n",
       " 'say',\n",
       " 'ready',\n",
       " 'watched',\n",
       " 'developed',\n",
       " 'taste',\n",
       " 'oz',\n",
       " 'got',\n",
       " 'accustomed',\n",
       " 'high',\n",
       " 'levels',\n",
       " 'graphic',\n",
       " 'violence',\n",
       " 'violence',\n",
       " 'injustice',\n",
       " 'crooked',\n",
       " 'guards',\n",
       " 'sold',\n",
       " 'nickel',\n",
       " 'inmates',\n",
       " 'kill',\n",
       " 'order',\n",
       " 'get',\n",
       " 'away',\n",
       " 'well',\n",
       " 'mannered',\n",
       " 'middle',\n",
       " 'class',\n",
       " 'inmates',\n",
       " 'turned',\n",
       " 'prison',\n",
       " 'bitches',\n",
       " 'due',\n",
       " 'lack',\n",
       " 'street',\n",
       " 'skills',\n",
       " 'prison',\n",
       " 'experience',\n",
       " 'watching',\n",
       " 'oz',\n",
       " 'may',\n",
       " 'become',\n",
       " 'comfortable',\n",
       " 'uncomfortable',\n",
       " 'viewing',\n",
       " 'thats',\n",
       " 'get',\n",
       " 'touch',\n",
       " 'darker',\n",
       " 'side']"
      ]
     },
     "execution_count": 20,
     "metadata": {},
     "output_type": "execute_result"
    }
   ],
   "source": [
    "review = [word for word in review if not word in set(stopwords.words('english'))]\n",
    "review"
   ]
  },
  {
   "cell_type": "markdown",
   "id": "f8a4a498",
   "metadata": {},
   "source": [
    "**5. Stemming/Lemmatization.**<br>\n",
    "We use lemmatization instead of stemming because lemmatization gives the actual meaning to the word."
   ]
  },
  {
   "cell_type": "code",
   "execution_count": 21,
   "id": "cf913a29",
   "metadata": {},
   "outputs": [
    {
     "data": {
      "text/plain": [
       "['one',\n",
       " 'reviewer',\n",
       " 'mentioned',\n",
       " 'watching',\n",
       " 'oz',\n",
       " 'episode',\n",
       " 'hooked',\n",
       " 'right',\n",
       " 'exactly',\n",
       " 'happened',\n",
       " 'first',\n",
       " 'thing',\n",
       " 'struck',\n",
       " 'oz',\n",
       " 'brutality',\n",
       " 'unflinching',\n",
       " 'scene',\n",
       " 'violence',\n",
       " 'set',\n",
       " 'right',\n",
       " 'word',\n",
       " 'go',\n",
       " 'trust',\n",
       " 'show',\n",
       " 'faint',\n",
       " 'hearted',\n",
       " 'timid',\n",
       " 'show',\n",
       " 'pull',\n",
       " 'punch',\n",
       " 'regard',\n",
       " 'drug',\n",
       " 'sex',\n",
       " 'violence',\n",
       " 'hardcore',\n",
       " 'classic',\n",
       " 'use',\n",
       " 'word',\n",
       " 'called',\n",
       " 'oz',\n",
       " 'nickname',\n",
       " 'given',\n",
       " 'oswald',\n",
       " 'maximum',\n",
       " 'security',\n",
       " 'state',\n",
       " 'penitentary',\n",
       " 'focus',\n",
       " 'mainly',\n",
       " 'emerald',\n",
       " 'city',\n",
       " 'experimental',\n",
       " 'section',\n",
       " 'prison',\n",
       " 'cell',\n",
       " 'glass',\n",
       " 'front',\n",
       " 'face',\n",
       " 'inwards',\n",
       " 'privacy',\n",
       " 'high',\n",
       " 'agenda',\n",
       " 'em',\n",
       " 'city',\n",
       " 'home',\n",
       " 'many',\n",
       " 'aryan',\n",
       " 'muslim',\n",
       " 'gangsta',\n",
       " 'latino',\n",
       " 'christian',\n",
       " 'italian',\n",
       " 'irish',\n",
       " 'scuffle',\n",
       " 'death',\n",
       " 'stare',\n",
       " 'dodgy',\n",
       " 'dealing',\n",
       " 'shady',\n",
       " 'agreement',\n",
       " 'never',\n",
       " 'far',\n",
       " 'away',\n",
       " 'would',\n",
       " 'say',\n",
       " 'main',\n",
       " 'appeal',\n",
       " 'show',\n",
       " 'due',\n",
       " 'fact',\n",
       " 'go',\n",
       " 'show',\n",
       " 'dare',\n",
       " 'forget',\n",
       " 'pretty',\n",
       " 'picture',\n",
       " 'painted',\n",
       " 'mainstream',\n",
       " 'audience',\n",
       " 'forget',\n",
       " 'charm',\n",
       " 'forget',\n",
       " 'romance',\n",
       " 'oz',\n",
       " 'mess',\n",
       " 'around',\n",
       " 'first',\n",
       " 'episode',\n",
       " 'ever',\n",
       " 'saw',\n",
       " 'struck',\n",
       " 'nasty',\n",
       " 'surreal',\n",
       " 'say',\n",
       " 'ready',\n",
       " 'watched',\n",
       " 'developed',\n",
       " 'taste',\n",
       " 'oz',\n",
       " 'got',\n",
       " 'accustomed',\n",
       " 'high',\n",
       " 'level',\n",
       " 'graphic',\n",
       " 'violence',\n",
       " 'violence',\n",
       " 'injustice',\n",
       " 'crooked',\n",
       " 'guard',\n",
       " 'sold',\n",
       " 'nickel',\n",
       " 'inmate',\n",
       " 'kill',\n",
       " 'order',\n",
       " 'get',\n",
       " 'away',\n",
       " 'well',\n",
       " 'mannered',\n",
       " 'middle',\n",
       " 'class',\n",
       " 'inmate',\n",
       " 'turned',\n",
       " 'prison',\n",
       " 'bitch',\n",
       " 'due',\n",
       " 'lack',\n",
       " 'street',\n",
       " 'skill',\n",
       " 'prison',\n",
       " 'experience',\n",
       " 'watching',\n",
       " 'oz',\n",
       " 'may',\n",
       " 'become',\n",
       " 'comfortable',\n",
       " 'uncomfortable',\n",
       " 'viewing',\n",
       " 'thats',\n",
       " 'get',\n",
       " 'touch',\n",
       " 'darker',\n",
       " 'side']"
      ]
     },
     "execution_count": 21,
     "metadata": {},
     "output_type": "execute_result"
    }
   ],
   "source": [
    "lem = WordNetLemmatizer()\n",
    "review = [lem.lemmatize(word) for word in review]\n",
    "review"
   ]
  },
  {
   "cell_type": "markdown",
   "id": "da10da20",
   "metadata": {},
   "source": [
    "Finally, we merge the words in form a text."
   ]
  },
  {
   "cell_type": "code",
   "execution_count": 22,
   "id": "5da44247",
   "metadata": {},
   "outputs": [
    {
     "data": {
      "text/plain": [
       "'one reviewer mentioned watching oz episode hooked right exactly happened first thing struck oz brutality unflinching scene violence set right word go trust show faint hearted timid show pull punch regard drug sex violence hardcore classic use word called oz nickname given oswald maximum security state penitentary focus mainly emerald city experimental section prison cell glass front face inwards privacy high agenda em city home many aryan muslim gangsta latino christian italian irish scuffle death stare dodgy dealing shady agreement never far away would say main appeal show due fact go show dare forget pretty picture painted mainstream audience forget charm forget romance oz mess around first episode ever saw struck nasty surreal say ready watched developed taste oz got accustomed high level graphic violence violence injustice crooked guard sold nickel inmate kill order get away well mannered middle class inmate turned prison bitch due lack street skill prison experience watching oz may become comfortable uncomfortable viewing thats get touch darker side'"
      ]
     },
     "execution_count": 22,
     "metadata": {},
     "output_type": "execute_result"
    }
   ],
   "source": [
    "review = ' '.join(review)\n",
    "review"
   ]
  },
  {
   "cell_type": "markdown",
   "id": "d9436265",
   "metadata": {},
   "source": [
    "**6. Vectorization**<br>\n",
    "Converting text into TF-IDF."
   ]
  },
  {
   "cell_type": "code",
   "execution_count": 23,
   "id": "13913e2f",
   "metadata": {},
   "outputs": [],
   "source": [
    "corpus = []\n",
    "corpus.append(review)"
   ]
  },
  {
   "cell_type": "code",
   "execution_count": 25,
   "id": "8777d013",
   "metadata": {},
   "outputs": [
    {
     "data": {
      "text/plain": [
       "array([[0.0625, 0.0625, 0.0625, 0.0625, 0.0625, 0.0625, 0.0625, 0.125 ,\n",
       "        0.0625, 0.0625, 0.0625, 0.0625, 0.0625, 0.0625, 0.0625, 0.125 ,\n",
       "        0.0625, 0.0625, 0.0625, 0.0625, 0.0625, 0.0625, 0.0625, 0.0625,\n",
       "        0.0625, 0.0625, 0.0625, 0.125 , 0.0625, 0.0625, 0.125 , 0.0625,\n",
       "        0.0625, 0.0625, 0.0625, 0.0625, 0.0625, 0.0625, 0.0625, 0.125 ,\n",
       "        0.0625, 0.1875, 0.0625, 0.0625, 0.125 , 0.0625, 0.0625, 0.125 ,\n",
       "        0.0625, 0.0625, 0.0625, 0.0625, 0.0625, 0.0625, 0.125 , 0.0625,\n",
       "        0.0625, 0.0625, 0.125 , 0.0625, 0.0625, 0.0625, 0.0625, 0.0625,\n",
       "        0.0625, 0.0625, 0.0625, 0.0625, 0.0625, 0.0625, 0.0625, 0.0625,\n",
       "        0.0625, 0.0625, 0.0625, 0.0625, 0.0625, 0.0625, 0.0625, 0.0625,\n",
       "        0.0625, 0.0625, 0.0625, 0.0625, 0.375 , 0.0625, 0.0625, 0.0625,\n",
       "        0.0625, 0.1875, 0.0625, 0.0625, 0.0625, 0.0625, 0.0625, 0.0625,\n",
       "        0.125 , 0.0625, 0.0625, 0.125 , 0.0625, 0.0625, 0.0625, 0.0625,\n",
       "        0.0625, 0.0625, 0.0625, 0.25  , 0.0625, 0.0625, 0.0625, 0.0625,\n",
       "        0.0625, 0.0625, 0.125 , 0.0625, 0.0625, 0.0625, 0.0625, 0.0625,\n",
       "        0.0625, 0.0625, 0.0625, 0.0625, 0.0625, 0.0625, 0.0625, 0.25  ,\n",
       "        0.0625, 0.125 , 0.0625, 0.125 , 0.0625]])"
      ]
     },
     "execution_count": 25,
     "metadata": {},
     "output_type": "execute_result"
    }
   ],
   "source": [
    "tf_idf = TfidfVectorizer()\n",
    "review_tf_idf = tf_idf.fit_transform(corpus)\n",
    "\n",
    "review_tf_idf.toarray()"
   ]
  },
  {
   "cell_type": "markdown",
   "id": "a2cc4fe6",
   "metadata": {},
   "source": [
    "### Splitting dataset into train and test set"
   ]
  },
  {
   "cell_type": "code",
   "execution_count": 27,
   "id": "5b3f3aad",
   "metadata": {},
   "outputs": [],
   "source": [
    "X = dataset['review']\n",
    "y = dataset['sentiment']\n",
    "\n",
    "y = (y.replace({'positive': 1, 'negative': 0})).values\n",
    "\n",
    "X_train, X_test, y_train, y_test = train_test_split(X, y, test_size=0.2, random_state=1)"
   ]
  },
  {
   "cell_type": "code",
   "execution_count": 28,
   "id": "ea28b380",
   "metadata": {},
   "outputs": [
    {
     "name": "stderr",
     "output_type": "stream",
     "text": [
      "C:\\Users\\Nirajan\\Desktop\\Machine Learning\\Learning\\env\\lib\\site-packages\\bs4\\__init__.py:439: MarkupResemblesLocatorWarning: The input looks more like a filename than markup. You may want to open this file and pass the filehandle into Beautiful Soup.\n",
      "  MarkupResemblesLocatorWarning\n"
     ]
    }
   ],
   "source": [
    "corpus_train = []\n",
    "corpus_test  = []\n",
    "lem = WordNetLemmatizer()\n",
    "\n",
    "for i in range(X_train.shape[0]):\n",
    "    soup = BeautifulSoup(X_train.iloc[i], \"html.parser\")\n",
    "    review = soup.get_text()\n",
    "    review = re.sub('\\[[^]]*\\]', ' ', review)\n",
    "    review = re.sub('[^a-zA-Z]', ' ', review)\n",
    "    review = review.lower()\n",
    "    review = review.split()\n",
    "    review = [word for word in review if not word in set(stopwords.words('english'))]\n",
    "    review = [lem.lemmatize(word) for word in review]\n",
    "    review = ' '.join(review)\n",
    "    corpus_train.append(review)\n",
    "    \n",
    "for j in range(X_test.shape[0]):\n",
    "    soup = BeautifulSoup(X_test.iloc[j], \"html.parser\")\n",
    "    review = soup.get_text()\n",
    "    review = re.sub('\\[[^]]*\\]', ' ', review)\n",
    "    review = re.sub('[^a-zA-Z]', ' ', review)\n",
    "    review = review.lower()\n",
    "    review = review.split()\n",
    "    review = [word for word in review if not word in set(stopwords.words('english'))]\n",
    "    review = [lem.lemmatize(word) for word in review]\n",
    "    review = ' '.join(review)\n",
    "    corpus_test.append(review)"
   ]
  },
  {
   "cell_type": "code",
   "execution_count": null,
   "id": "d70bbe8d",
   "metadata": {},
   "outputs": [],
   "source": [
    "tfidf_vec = TfidfVectorizer()\n",
    "\n",
    "tfidf = tfidf_vec.fit(corpus_train)\n",
    "\n",
    "pickle.dump(tfidf, open('.\\model\\tfidf.pkl', 'wb'))"
   ]
  },
  {
   "cell_type": "code",
   "execution_count": 30,
   "id": "4d2475f0",
   "metadata": {},
   "outputs": [],
   "source": [
    "X_train_vec = tfidf.transform(corpus_train)\n",
    "X_test_vec = tfidf.transform(corpus_test)"
   ]
  },
  {
   "cell_type": "markdown",
   "id": "4d7adc14",
   "metadata": {},
   "source": [
    "### Training the model"
   ]
  },
  {
   "cell_type": "markdown",
   "id": "bb67ceea",
   "metadata": {},
   "source": [
    "#### 1. Logistic regression"
   ]
  },
  {
   "cell_type": "code",
   "execution_count": 41,
   "id": "035aa8d0",
   "metadata": {},
   "outputs": [
    {
     "name": "stdout",
     "output_type": "stream",
     "text": [
      "Accuracy : 89.41%\n",
      "Classification Report: \n",
      "               precision    recall  f1-score   support\n",
      "\n",
      "    Negative       0.91      0.88      0.89      5044\n",
      "    Positive       0.88      0.91      0.90      4956\n",
      "\n",
      "    accuracy                           0.89     10000\n",
      "   macro avg       0.89      0.89      0.89     10000\n",
      "weighted avg       0.89      0.89      0.89     10000\n",
      "\n",
      "Confusion Matrix: \n",
      " [[4427  617]\n",
      " [ 442 4514]]\n"
     ]
    }
   ],
   "source": [
    "logistic_regression = LogisticRegression()\n",
    "logistic_regression.fit(X_train_vec, y_train)\n",
    "\n",
    "y_pred = logistic_regression.predict(X_test_vec)\n",
    "accuracy = metrics.accuracy_score(y_pred, y_test)\n",
    "print(f'Accuracy : {accuracy*100}%')\n",
    "print(f\"Classification Report: \\n {classification_report(y_test, y_pred,target_names=['Negative','Positive'])}\")\n",
    "print(f'Confusion Matrix: \\n {confusion_matrix(y_test, y_pred)}')"
   ]
  },
  {
   "cell_type": "code",
   "execution_count": 61,
   "id": "f7e18175",
   "metadata": {},
   "outputs": [
    {
     "name": "stdout",
     "output_type": "stream",
     "text": [
      "The accuracy of Logistic Regression on Train_set is 93.17%.\n",
      "The accuracy of Logistic Regression on Test_set is 89.41%.\n"
     ]
    }
   ],
   "source": [
    "print(f'The accuracy of Logistic Regression on Train_set is {metrics.accuracy_score(y_train, logistic_regression.predict(X_train_vec))*100:.2f}%.')\n",
    "print(f'The accuracy of Logistic Regression on Test_set is {metrics.accuracy_score(y_test, logistic_regression.predict(X_test_vec))*100:.2f}%.')"
   ]
  },
  {
   "cell_type": "code",
   "execution_count": 179,
   "id": "fd183d30",
   "metadata": {},
   "outputs": [],
   "source": [
    "with open('.\\model\\LR.pkl', 'wb') as file:\n",
    "    pickle.dump(logistic_regression, file)"
   ]
  },
  {
   "cell_type": "code",
   "execution_count": 56,
   "id": "f5ab4123",
   "metadata": {},
   "outputs": [
    {
     "name": "stdout",
     "output_type": "stream",
     "text": [
      "Fitting 5 folds for each of 48 candidates, totalling 240 fits\n",
      "[CV] END C=0.001, max_iter=100, penalty=l1, solver=liblinear; total time=   0.0s\n",
      "[CV] END C=0.001, max_iter=100, penalty=l1, solver=liblinear; total time=   0.0s\n",
      "[CV] END C=0.001, max_iter=100, penalty=l1, solver=liblinear; total time=   0.0s\n",
      "[CV] END C=0.001, max_iter=100, penalty=l1, solver=liblinear; total time=   0.0s\n",
      "[CV] END C=0.001, max_iter=100, penalty=l1, solver=liblinear; total time=   0.0s\n",
      "[CV] END .....C=0.001, max_iter=100, penalty=l1, solver=saga; total time=   0.4s\n",
      "[CV] END .....C=0.001, max_iter=100, penalty=l1, solver=saga; total time=   0.3s\n",
      "[CV] END .....C=0.001, max_iter=100, penalty=l1, solver=saga; total time=   0.3s\n",
      "[CV] END .....C=0.001, max_iter=100, penalty=l1, solver=saga; total time=   0.3s\n",
      "[CV] END .....C=0.001, max_iter=100, penalty=l1, solver=saga; total time=   0.1s\n",
      "[CV] END C=0.001, max_iter=100, penalty=l2, solver=liblinear; total time=   0.1s\n",
      "[CV] END C=0.001, max_iter=100, penalty=l2, solver=liblinear; total time=   0.1s\n",
      "[CV] END C=0.001, max_iter=100, penalty=l2, solver=liblinear; total time=   0.1s\n",
      "[CV] END C=0.001, max_iter=100, penalty=l2, solver=liblinear; total time=   0.1s\n",
      "[CV] END C=0.001, max_iter=100, penalty=l2, solver=liblinear; total time=   0.1s\n",
      "[CV] END .....C=0.001, max_iter=100, penalty=l2, solver=saga; total time=   1.1s\n",
      "[CV] END .....C=0.001, max_iter=100, penalty=l2, solver=saga; total time=   1.3s\n",
      "[CV] END .....C=0.001, max_iter=100, penalty=l2, solver=saga; total time=   1.3s\n",
      "[CV] END .....C=0.001, max_iter=100, penalty=l2, solver=saga; total time=   1.4s\n",
      "[CV] END .....C=0.001, max_iter=100, penalty=l2, solver=saga; total time=   1.2s\n",
      "[CV] END C=0.001, max_iter=500, penalty=l1, solver=liblinear; total time=   0.0s\n",
      "[CV] END C=0.001, max_iter=500, penalty=l1, solver=liblinear; total time=   0.0s\n",
      "[CV] END C=0.001, max_iter=500, penalty=l1, solver=liblinear; total time=   0.0s\n",
      "[CV] END C=0.001, max_iter=500, penalty=l1, solver=liblinear; total time=   0.0s\n",
      "[CV] END C=0.001, max_iter=500, penalty=l1, solver=liblinear; total time=   0.0s\n",
      "[CV] END .....C=0.001, max_iter=500, penalty=l1, solver=saga; total time=   0.2s\n",
      "[CV] END .....C=0.001, max_iter=500, penalty=l1, solver=saga; total time=   0.2s\n",
      "[CV] END .....C=0.001, max_iter=500, penalty=l1, solver=saga; total time=   0.2s\n",
      "[CV] END .....C=0.001, max_iter=500, penalty=l1, solver=saga; total time=   0.2s\n",
      "[CV] END .....C=0.001, max_iter=500, penalty=l1, solver=saga; total time=   0.3s\n",
      "[CV] END C=0.001, max_iter=500, penalty=l2, solver=liblinear; total time=   0.1s\n",
      "[CV] END C=0.001, max_iter=500, penalty=l2, solver=liblinear; total time=   0.1s\n",
      "[CV] END C=0.001, max_iter=500, penalty=l2, solver=liblinear; total time=   0.1s\n",
      "[CV] END C=0.001, max_iter=500, penalty=l2, solver=liblinear; total time=   0.1s\n",
      "[CV] END C=0.001, max_iter=500, penalty=l2, solver=liblinear; total time=   0.1s\n",
      "[CV] END .....C=0.001, max_iter=500, penalty=l2, solver=saga; total time=   1.3s\n",
      "[CV] END .....C=0.001, max_iter=500, penalty=l2, solver=saga; total time=   1.4s\n",
      "[CV] END .....C=0.001, max_iter=500, penalty=l2, solver=saga; total time=   1.6s\n",
      "[CV] END .....C=0.001, max_iter=500, penalty=l2, solver=saga; total time=   1.4s\n",
      "[CV] END .....C=0.001, max_iter=500, penalty=l2, solver=saga; total time=   1.3s\n",
      "[CV] END C=0.001, max_iter=1000, penalty=l1, solver=liblinear; total time=   0.0s\n",
      "[CV] END C=0.001, max_iter=1000, penalty=l1, solver=liblinear; total time=   0.0s\n",
      "[CV] END C=0.001, max_iter=1000, penalty=l1, solver=liblinear; total time=   0.0s\n",
      "[CV] END C=0.001, max_iter=1000, penalty=l1, solver=liblinear; total time=   0.0s\n",
      "[CV] END C=0.001, max_iter=1000, penalty=l1, solver=liblinear; total time=   0.0s\n",
      "[CV] END ....C=0.001, max_iter=1000, penalty=l1, solver=saga; total time=   0.2s\n",
      "[CV] END ....C=0.001, max_iter=1000, penalty=l1, solver=saga; total time=   0.2s\n",
      "[CV] END ....C=0.001, max_iter=1000, penalty=l1, solver=saga; total time=   0.2s\n",
      "[CV] END ....C=0.001, max_iter=1000, penalty=l1, solver=saga; total time=   0.2s\n",
      "[CV] END ....C=0.001, max_iter=1000, penalty=l1, solver=saga; total time=   0.2s\n",
      "[CV] END C=0.001, max_iter=1000, penalty=l2, solver=liblinear; total time=   0.1s\n",
      "[CV] END C=0.001, max_iter=1000, penalty=l2, solver=liblinear; total time=   0.1s\n",
      "[CV] END C=0.001, max_iter=1000, penalty=l2, solver=liblinear; total time=   0.1s\n",
      "[CV] END C=0.001, max_iter=1000, penalty=l2, solver=liblinear; total time=   0.1s\n",
      "[CV] END C=0.001, max_iter=1000, penalty=l2, solver=liblinear; total time=   0.1s\n",
      "[CV] END ....C=0.001, max_iter=1000, penalty=l2, solver=saga; total time=   1.3s\n",
      "[CV] END ....C=0.001, max_iter=1000, penalty=l2, solver=saga; total time=   1.1s\n",
      "[CV] END ....C=0.001, max_iter=1000, penalty=l2, solver=saga; total time=   1.3s\n",
      "[CV] END ....C=0.001, max_iter=1000, penalty=l2, solver=saga; total time=   1.4s\n",
      "[CV] END ....C=0.001, max_iter=1000, penalty=l2, solver=saga; total time=   1.4s\n",
      "[CV] END .C=0.01, max_iter=100, penalty=l1, solver=liblinear; total time=   0.2s\n",
      "[CV] END .C=0.01, max_iter=100, penalty=l1, solver=liblinear; total time=   0.2s\n",
      "[CV] END .C=0.01, max_iter=100, penalty=l1, solver=liblinear; total time=   0.2s\n",
      "[CV] END .C=0.01, max_iter=100, penalty=l1, solver=liblinear; total time=   0.2s\n",
      "[CV] END .C=0.01, max_iter=100, penalty=l1, solver=liblinear; total time=   0.2s\n",
      "[CV] END ......C=0.01, max_iter=100, penalty=l1, solver=saga; total time=   1.1s\n",
      "[CV] END ......C=0.01, max_iter=100, penalty=l1, solver=saga; total time=   1.0s\n",
      "[CV] END ......C=0.01, max_iter=100, penalty=l1, solver=saga; total time=   1.1s\n",
      "[CV] END ......C=0.01, max_iter=100, penalty=l1, solver=saga; total time=   1.2s\n",
      "[CV] END ......C=0.01, max_iter=100, penalty=l1, solver=saga; total time=   1.1s\n",
      "[CV] END .C=0.01, max_iter=100, penalty=l2, solver=liblinear; total time=   0.2s\n",
      "[CV] END .C=0.01, max_iter=100, penalty=l2, solver=liblinear; total time=   0.2s\n",
      "[CV] END .C=0.01, max_iter=100, penalty=l2, solver=liblinear; total time=   0.2s\n",
      "[CV] END .C=0.01, max_iter=100, penalty=l2, solver=liblinear; total time=   0.1s\n",
      "[CV] END .C=0.01, max_iter=100, penalty=l2, solver=liblinear; total time=   0.2s\n",
      "[CV] END ......C=0.01, max_iter=100, penalty=l2, solver=saga; total time=   1.0s\n",
      "[CV] END ......C=0.01, max_iter=100, penalty=l2, solver=saga; total time=   1.0s\n",
      "[CV] END ......C=0.01, max_iter=100, penalty=l2, solver=saga; total time=   1.1s\n",
      "[CV] END ......C=0.01, max_iter=100, penalty=l2, solver=saga; total time=   1.0s\n",
      "[CV] END ......C=0.01, max_iter=100, penalty=l2, solver=saga; total time=   1.0s\n",
      "[CV] END .C=0.01, max_iter=500, penalty=l1, solver=liblinear; total time=   0.2s\n",
      "[CV] END .C=0.01, max_iter=500, penalty=l1, solver=liblinear; total time=   0.2s\n",
      "[CV] END .C=0.01, max_iter=500, penalty=l1, solver=liblinear; total time=   0.2s\n",
      "[CV] END .C=0.01, max_iter=500, penalty=l1, solver=liblinear; total time=   0.2s\n",
      "[CV] END .C=0.01, max_iter=500, penalty=l1, solver=liblinear; total time=   0.2s\n",
      "[CV] END ......C=0.01, max_iter=500, penalty=l1, solver=saga; total time=   1.2s\n",
      "[CV] END ......C=0.01, max_iter=500, penalty=l1, solver=saga; total time=   1.2s\n",
      "[CV] END ......C=0.01, max_iter=500, penalty=l1, solver=saga; total time=   1.2s\n",
      "[CV] END ......C=0.01, max_iter=500, penalty=l1, solver=saga; total time=   1.0s\n",
      "[CV] END ......C=0.01, max_iter=500, penalty=l1, solver=saga; total time=   1.2s\n",
      "[CV] END .C=0.01, max_iter=500, penalty=l2, solver=liblinear; total time=   0.2s\n",
      "[CV] END .C=0.01, max_iter=500, penalty=l2, solver=liblinear; total time=   0.2s\n",
      "[CV] END .C=0.01, max_iter=500, penalty=l2, solver=liblinear; total time=   0.2s\n",
      "[CV] END .C=0.01, max_iter=500, penalty=l2, solver=liblinear; total time=   0.1s\n",
      "[CV] END .C=0.01, max_iter=500, penalty=l2, solver=liblinear; total time=   0.2s\n",
      "[CV] END ......C=0.01, max_iter=500, penalty=l2, solver=saga; total time=   1.0s\n",
      "[CV] END ......C=0.01, max_iter=500, penalty=l2, solver=saga; total time=   1.0s\n",
      "[CV] END ......C=0.01, max_iter=500, penalty=l2, solver=saga; total time=   1.1s\n",
      "[CV] END ......C=0.01, max_iter=500, penalty=l2, solver=saga; total time=   0.8s\n",
      "[CV] END ......C=0.01, max_iter=500, penalty=l2, solver=saga; total time=   1.0s\n",
      "[CV] END C=0.01, max_iter=1000, penalty=l1, solver=liblinear; total time=   0.2s\n"
     ]
    },
    {
     "name": "stdout",
     "output_type": "stream",
     "text": [
      "[CV] END C=0.01, max_iter=1000, penalty=l1, solver=liblinear; total time=   0.2s\n",
      "[CV] END C=0.01, max_iter=1000, penalty=l1, solver=liblinear; total time=   0.2s\n",
      "[CV] END C=0.01, max_iter=1000, penalty=l1, solver=liblinear; total time=   0.3s\n",
      "[CV] END C=0.01, max_iter=1000, penalty=l1, solver=liblinear; total time=   0.2s\n",
      "[CV] END .....C=0.01, max_iter=1000, penalty=l1, solver=saga; total time=   1.0s\n",
      "[CV] END .....C=0.01, max_iter=1000, penalty=l1, solver=saga; total time=   0.9s\n",
      "[CV] END .....C=0.01, max_iter=1000, penalty=l1, solver=saga; total time=   1.0s\n",
      "[CV] END .....C=0.01, max_iter=1000, penalty=l1, solver=saga; total time=   1.2s\n",
      "[CV] END .....C=0.01, max_iter=1000, penalty=l1, solver=saga; total time=   1.1s\n",
      "[CV] END C=0.01, max_iter=1000, penalty=l2, solver=liblinear; total time=   0.2s\n",
      "[CV] END C=0.01, max_iter=1000, penalty=l2, solver=liblinear; total time=   0.2s\n",
      "[CV] END C=0.01, max_iter=1000, penalty=l2, solver=liblinear; total time=   0.2s\n",
      "[CV] END C=0.01, max_iter=1000, penalty=l2, solver=liblinear; total time=   0.2s\n",
      "[CV] END C=0.01, max_iter=1000, penalty=l2, solver=liblinear; total time=   0.2s\n",
      "[CV] END .....C=0.01, max_iter=1000, penalty=l2, solver=saga; total time=   0.9s\n",
      "[CV] END .....C=0.01, max_iter=1000, penalty=l2, solver=saga; total time=   0.9s\n",
      "[CV] END .....C=0.01, max_iter=1000, penalty=l2, solver=saga; total time=   1.0s\n",
      "[CV] END .....C=0.01, max_iter=1000, penalty=l2, solver=saga; total time=   1.0s\n",
      "[CV] END .....C=0.01, max_iter=1000, penalty=l2, solver=saga; total time=   0.9s\n",
      "[CV] END ..C=0.1, max_iter=100, penalty=l1, solver=liblinear; total time=   0.3s\n",
      "[CV] END ..C=0.1, max_iter=100, penalty=l1, solver=liblinear; total time=   0.3s\n",
      "[CV] END ..C=0.1, max_iter=100, penalty=l1, solver=liblinear; total time=   0.4s\n",
      "[CV] END ..C=0.1, max_iter=100, penalty=l1, solver=liblinear; total time=   0.5s\n",
      "[CV] END ..C=0.1, max_iter=100, penalty=l1, solver=liblinear; total time=   0.3s\n",
      "[CV] END .......C=0.1, max_iter=100, penalty=l1, solver=saga; total time=   1.5s\n",
      "[CV] END .......C=0.1, max_iter=100, penalty=l1, solver=saga; total time=   1.3s\n",
      "[CV] END .......C=0.1, max_iter=100, penalty=l1, solver=saga; total time=   1.5s\n",
      "[CV] END .......C=0.1, max_iter=100, penalty=l1, solver=saga; total time=   1.3s\n",
      "[CV] END .......C=0.1, max_iter=100, penalty=l1, solver=saga; total time=   1.2s\n",
      "[CV] END ..C=0.1, max_iter=100, penalty=l2, solver=liblinear; total time=   0.3s\n",
      "[CV] END ..C=0.1, max_iter=100, penalty=l2, solver=liblinear; total time=   0.3s\n",
      "[CV] END ..C=0.1, max_iter=100, penalty=l2, solver=liblinear; total time=   0.3s\n",
      "[CV] END ..C=0.1, max_iter=100, penalty=l2, solver=liblinear; total time=   0.3s\n",
      "[CV] END ..C=0.1, max_iter=100, penalty=l2, solver=liblinear; total time=   0.3s\n",
      "[CV] END .......C=0.1, max_iter=100, penalty=l2, solver=saga; total time=   1.1s\n",
      "[CV] END .......C=0.1, max_iter=100, penalty=l2, solver=saga; total time=   0.9s\n",
      "[CV] END .......C=0.1, max_iter=100, penalty=l2, solver=saga; total time=   1.0s\n",
      "[CV] END .......C=0.1, max_iter=100, penalty=l2, solver=saga; total time=   0.9s\n",
      "[CV] END .......C=0.1, max_iter=100, penalty=l2, solver=saga; total time=   1.0s\n",
      "[CV] END ..C=0.1, max_iter=500, penalty=l1, solver=liblinear; total time=   0.4s\n",
      "[CV] END ..C=0.1, max_iter=500, penalty=l1, solver=liblinear; total time=   0.3s\n",
      "[CV] END ..C=0.1, max_iter=500, penalty=l1, solver=liblinear; total time=   0.4s\n",
      "[CV] END ..C=0.1, max_iter=500, penalty=l1, solver=liblinear; total time=   0.4s\n",
      "[CV] END ..C=0.1, max_iter=500, penalty=l1, solver=liblinear; total time=   0.4s\n",
      "[CV] END .......C=0.1, max_iter=500, penalty=l1, solver=saga; total time=   1.5s\n",
      "[CV] END .......C=0.1, max_iter=500, penalty=l1, solver=saga; total time=   1.5s\n",
      "[CV] END .......C=0.1, max_iter=500, penalty=l1, solver=saga; total time=   1.5s\n",
      "[CV] END .......C=0.1, max_iter=500, penalty=l1, solver=saga; total time=   1.4s\n",
      "[CV] END .......C=0.1, max_iter=500, penalty=l1, solver=saga; total time=   1.4s\n",
      "[CV] END ..C=0.1, max_iter=500, penalty=l2, solver=liblinear; total time=   0.3s\n",
      "[CV] END ..C=0.1, max_iter=500, penalty=l2, solver=liblinear; total time=   0.3s\n",
      "[CV] END ..C=0.1, max_iter=500, penalty=l2, solver=liblinear; total time=   0.3s\n",
      "[CV] END ..C=0.1, max_iter=500, penalty=l2, solver=liblinear; total time=   0.4s\n",
      "[CV] END ..C=0.1, max_iter=500, penalty=l2, solver=liblinear; total time=   0.4s\n",
      "[CV] END .......C=0.1, max_iter=500, penalty=l2, solver=saga; total time=   1.0s\n",
      "[CV] END .......C=0.1, max_iter=500, penalty=l2, solver=saga; total time=   0.9s\n",
      "[CV] END .......C=0.1, max_iter=500, penalty=l2, solver=saga; total time=   1.1s\n",
      "[CV] END .......C=0.1, max_iter=500, penalty=l2, solver=saga; total time=   1.0s\n",
      "[CV] END .......C=0.1, max_iter=500, penalty=l2, solver=saga; total time=   1.0s\n",
      "[CV] END .C=0.1, max_iter=1000, penalty=l1, solver=liblinear; total time=   0.4s\n",
      "[CV] END .C=0.1, max_iter=1000, penalty=l1, solver=liblinear; total time=   0.5s\n",
      "[CV] END .C=0.1, max_iter=1000, penalty=l1, solver=liblinear; total time=   0.5s\n",
      "[CV] END .C=0.1, max_iter=1000, penalty=l1, solver=liblinear; total time=   0.5s\n",
      "[CV] END .C=0.1, max_iter=1000, penalty=l1, solver=liblinear; total time=   0.4s\n",
      "[CV] END ......C=0.1, max_iter=1000, penalty=l1, solver=saga; total time=   1.6s\n",
      "[CV] END ......C=0.1, max_iter=1000, penalty=l1, solver=saga; total time=   1.3s\n",
      "[CV] END ......C=0.1, max_iter=1000, penalty=l1, solver=saga; total time=   1.3s\n",
      "[CV] END ......C=0.1, max_iter=1000, penalty=l1, solver=saga; total time=   1.2s\n",
      "[CV] END ......C=0.1, max_iter=1000, penalty=l1, solver=saga; total time=   1.3s\n",
      "[CV] END .C=0.1, max_iter=1000, penalty=l2, solver=liblinear; total time=   0.3s\n",
      "[CV] END .C=0.1, max_iter=1000, penalty=l2, solver=liblinear; total time=   0.3s\n",
      "[CV] END .C=0.1, max_iter=1000, penalty=l2, solver=liblinear; total time=   0.3s\n",
      "[CV] END .C=0.1, max_iter=1000, penalty=l2, solver=liblinear; total time=   0.3s\n",
      "[CV] END .C=0.1, max_iter=1000, penalty=l2, solver=liblinear; total time=   0.3s\n",
      "[CV] END ......C=0.1, max_iter=1000, penalty=l2, solver=saga; total time=   0.8s\n",
      "[CV] END ......C=0.1, max_iter=1000, penalty=l2, solver=saga; total time=   0.8s\n",
      "[CV] END ......C=0.1, max_iter=1000, penalty=l2, solver=saga; total time=   0.7s\n",
      "[CV] END ......C=0.1, max_iter=1000, penalty=l2, solver=saga; total time=   0.9s\n",
      "[CV] END ......C=0.1, max_iter=1000, penalty=l2, solver=saga; total time=   1.0s\n",
      "[CV] END ....C=1, max_iter=100, penalty=l1, solver=liblinear; total time=   0.4s\n",
      "[CV] END ....C=1, max_iter=100, penalty=l1, solver=liblinear; total time=   0.5s\n",
      "[CV] END ....C=1, max_iter=100, penalty=l1, solver=liblinear; total time=   0.5s\n",
      "[CV] END ....C=1, max_iter=100, penalty=l1, solver=liblinear; total time=   0.4s\n",
      "[CV] END ....C=1, max_iter=100, penalty=l1, solver=liblinear; total time=   0.4s\n",
      "[CV] END .........C=1, max_iter=100, penalty=l1, solver=saga; total time=   9.2s\n",
      "[CV] END .........C=1, max_iter=100, penalty=l1, solver=saga; total time=  10.1s\n",
      "[CV] END .........C=1, max_iter=100, penalty=l1, solver=saga; total time=   9.0s\n",
      "[CV] END .........C=1, max_iter=100, penalty=l1, solver=saga; total time=  11.1s\n",
      "[CV] END .........C=1, max_iter=100, penalty=l1, solver=saga; total time=  11.1s\n",
      "[CV] END ....C=1, max_iter=100, penalty=l2, solver=liblinear; total time=   0.7s\n",
      "[CV] END ....C=1, max_iter=100, penalty=l2, solver=liblinear; total time=   0.6s\n",
      "[CV] END ....C=1, max_iter=100, penalty=l2, solver=liblinear; total time=   0.6s\n",
      "[CV] END ....C=1, max_iter=100, penalty=l2, solver=liblinear; total time=   0.6s\n",
      "[CV] END ....C=1, max_iter=100, penalty=l2, solver=liblinear; total time=   0.6s\n",
      "[CV] END .........C=1, max_iter=100, penalty=l2, solver=saga; total time=   0.9s\n",
      "[CV] END .........C=1, max_iter=100, penalty=l2, solver=saga; total time=   0.9s\n",
      "[CV] END .........C=1, max_iter=100, penalty=l2, solver=saga; total time=   1.0s\n",
      "[CV] END .........C=1, max_iter=100, penalty=l2, solver=saga; total time=   0.9s\n",
      "[CV] END .........C=1, max_iter=100, penalty=l2, solver=saga; total time=   1.0s\n",
      "[CV] END ....C=1, max_iter=500, penalty=l1, solver=liblinear; total time=   0.4s\n",
      "[CV] END ....C=1, max_iter=500, penalty=l1, solver=liblinear; total time=   0.3s\n",
      "[CV] END ....C=1, max_iter=500, penalty=l1, solver=liblinear; total time=   0.4s\n"
     ]
    },
    {
     "name": "stdout",
     "output_type": "stream",
     "text": [
      "[CV] END ....C=1, max_iter=500, penalty=l1, solver=liblinear; total time=   0.5s\n",
      "[CV] END ....C=1, max_iter=500, penalty=l1, solver=liblinear; total time=   0.5s\n",
      "[CV] END .........C=1, max_iter=500, penalty=l1, solver=saga; total time=  13.3s\n",
      "[CV] END .........C=1, max_iter=500, penalty=l1, solver=saga; total time=   9.6s\n",
      "[CV] END .........C=1, max_iter=500, penalty=l1, solver=saga; total time=   9.1s\n",
      "[CV] END .........C=1, max_iter=500, penalty=l1, solver=saga; total time=  12.9s\n",
      "[CV] END .........C=1, max_iter=500, penalty=l1, solver=saga; total time=  10.2s\n",
      "[CV] END ....C=1, max_iter=500, penalty=l2, solver=liblinear; total time=   0.6s\n",
      "[CV] END ....C=1, max_iter=500, penalty=l2, solver=liblinear; total time=   0.6s\n",
      "[CV] END ....C=1, max_iter=500, penalty=l2, solver=liblinear; total time=   0.6s\n",
      "[CV] END ....C=1, max_iter=500, penalty=l2, solver=liblinear; total time=   0.6s\n",
      "[CV] END ....C=1, max_iter=500, penalty=l2, solver=liblinear; total time=   0.6s\n",
      "[CV] END .........C=1, max_iter=500, penalty=l2, solver=saga; total time=   1.0s\n",
      "[CV] END .........C=1, max_iter=500, penalty=l2, solver=saga; total time=   1.0s\n",
      "[CV] END .........C=1, max_iter=500, penalty=l2, solver=saga; total time=   0.9s\n",
      "[CV] END .........C=1, max_iter=500, penalty=l2, solver=saga; total time=   1.1s\n",
      "[CV] END .........C=1, max_iter=500, penalty=l2, solver=saga; total time=   1.0s\n",
      "[CV] END ...C=1, max_iter=1000, penalty=l1, solver=liblinear; total time=   0.4s\n",
      "[CV] END ...C=1, max_iter=1000, penalty=l1, solver=liblinear; total time=   0.6s\n",
      "[CV] END ...C=1, max_iter=1000, penalty=l1, solver=liblinear; total time=   0.4s\n",
      "[CV] END ...C=1, max_iter=1000, penalty=l1, solver=liblinear; total time=   0.5s\n",
      "[CV] END ...C=1, max_iter=1000, penalty=l1, solver=liblinear; total time=   0.5s\n",
      "[CV] END ........C=1, max_iter=1000, penalty=l1, solver=saga; total time=  10.1s\n",
      "[CV] END ........C=1, max_iter=1000, penalty=l1, solver=saga; total time=  10.4s\n",
      "[CV] END ........C=1, max_iter=1000, penalty=l1, solver=saga; total time=  10.4s\n",
      "[CV] END ........C=1, max_iter=1000, penalty=l1, solver=saga; total time=  11.8s\n",
      "[CV] END ........C=1, max_iter=1000, penalty=l1, solver=saga; total time=   9.6s\n",
      "[CV] END ...C=1, max_iter=1000, penalty=l2, solver=liblinear; total time=   0.7s\n",
      "[CV] END ...C=1, max_iter=1000, penalty=l2, solver=liblinear; total time=   0.6s\n",
      "[CV] END ...C=1, max_iter=1000, penalty=l2, solver=liblinear; total time=   0.6s\n",
      "[CV] END ...C=1, max_iter=1000, penalty=l2, solver=liblinear; total time=   0.6s\n",
      "[CV] END ...C=1, max_iter=1000, penalty=l2, solver=liblinear; total time=   0.6s\n",
      "[CV] END ........C=1, max_iter=1000, penalty=l2, solver=saga; total time=   1.0s\n",
      "[CV] END ........C=1, max_iter=1000, penalty=l2, solver=saga; total time=   0.8s\n",
      "[CV] END ........C=1, max_iter=1000, penalty=l2, solver=saga; total time=   0.9s\n",
      "[CV] END ........C=1, max_iter=1000, penalty=l2, solver=saga; total time=   1.0s\n",
      "[CV] END ........C=1, max_iter=1000, penalty=l2, solver=saga; total time=   0.9s\n",
      "{'C': 1, 'max_iter': 1000, 'penalty': 'l2', 'solver': 'saga'}\n",
      "Accuracy : 89.42%\n",
      "Classification Report: \n",
      "               precision    recall  f1-score   support\n",
      "\n",
      "    Negative       0.91      0.88      0.89      5044\n",
      "    Positive       0.88      0.91      0.90      4956\n",
      "\n",
      "    accuracy                           0.89     10000\n",
      "   macro avg       0.89      0.89      0.89     10000\n",
      "weighted avg       0.89      0.89      0.89     10000\n",
      "\n",
      "Confusion Matrix: \n",
      " [[4427  617]\n",
      " [ 441 4515]]\n"
     ]
    }
   ],
   "source": [
    "grid = {\n",
    "    'penalty': ['l1', 'l2'],\n",
    "    'C': [0.001, 0.01, 0.1, 1],\n",
    "    'solver': ['liblinear', 'saga'],\n",
    "    'max_iter': [100, 500, 1000]\n",
    "}\n",
    "\n",
    "grid_CV_logistic = GridSearchCV(logistic_regression, grid, cv=5, scoring='accuracy', verbose=2)\n",
    "grid_CV_logistic.fit(X_train_vec, y_train)\n",
    "best_param = grid_CV_logistic.best_params_\n",
    "print(best_param)\n",
    "\n",
    "final_lr = grid_CV_logistic.best_estimator_\n",
    "y_pred = final_lr.predict(X_test_vec)\n",
    "\n",
    "accuracy = metrics.accuracy_score(y_pred, y_test)\n",
    "print(f'Accuracy : {accuracy*100}%')\n",
    "print(f\"Classification Report: \\n {classification_report(y_test, y_pred,target_names=['Negative','Positive'])}\")\n",
    "print(f'Confusion Matrix: \\n {confusion_matrix(y_test, y_pred)}')"
   ]
  },
  {
   "cell_type": "code",
   "execution_count": 62,
   "id": "041dd4bd",
   "metadata": {},
   "outputs": [
    {
     "name": "stdout",
     "output_type": "stream",
     "text": [
      "The accuracy of Final LR on Train_set is 93.17%.\n",
      "The accuracy of Final LR on Test_set is 89.42%.\n"
     ]
    }
   ],
   "source": [
    "print(f'The accuracy of Final LR on Train_set is {metrics.accuracy_score(y_train, final_lr.predict(X_train_vec))*100:.2f}%.')\n",
    "print(f'The accuracy of Final LR on Test_set is {metrics.accuracy_score(y_test, final_lr.predict(X_test_vec))*100:.2f}%.')"
   ]
  },
  {
   "cell_type": "code",
   "execution_count": 182,
   "id": "17685f7c",
   "metadata": {},
   "outputs": [],
   "source": [
    "with open('.\\model\\\\final_LR.pkl', 'wb') as file:\n",
    "    pickle.dump(final_lr, file)"
   ]
  },
  {
   "cell_type": "markdown",
   "id": "4c8ded68",
   "metadata": {},
   "source": [
    "#### 2. Linear SVC"
   ]
  },
  {
   "cell_type": "code",
   "execution_count": 43,
   "id": "4093642b",
   "metadata": {},
   "outputs": [
    {
     "name": "stdout",
     "output_type": "stream",
     "text": [
      "Accuracy : 89.95%\n",
      "Classification Report: \n",
      "               precision    recall  f1-score   support\n",
      "\n",
      "    Negative       0.91      0.89      0.90      5044\n",
      "    Positive       0.89      0.91      0.90      4956\n",
      "\n",
      "    accuracy                           0.90     10000\n",
      "   macro avg       0.90      0.90      0.90     10000\n",
      "weighted avg       0.90      0.90      0.90     10000\n",
      "\n",
      "Confusion Matrix: \n",
      " [[4491  553]\n",
      " [ 452 4504]]\n"
     ]
    }
   ],
   "source": [
    "linear_svc = LinearSVC()\n",
    "linear_svc.fit(X_train_vec, y_train)\n",
    "\n",
    "y_pred = linear_svc.predict(X_test_vec)\n",
    "accuracy = metrics.accuracy_score(y_pred, y_test)\n",
    "print(f'Accuracy : {accuracy*100}%')\n",
    "print(f\"Classification Report: \\n {classification_report(y_test, y_pred,target_names=['Negative','Positive'])}\")\n",
    "print(f'Confusion Matrix: \\n {confusion_matrix(y_test, y_pred)}')"
   ]
  },
  {
   "cell_type": "code",
   "execution_count": 63,
   "id": "fca7e511",
   "metadata": {},
   "outputs": [
    {
     "name": "stdout",
     "output_type": "stream",
     "text": [
      "The accuracy of Linear SVC on Train_set is 98.54%.\n",
      "The accuracy of Linear SVC on Test_set is 89.95%.\n"
     ]
    }
   ],
   "source": [
    "print(f'The accuracy of Linear SVC on Train_set is {metrics.accuracy_score(y_train, linear_svc.predict(X_train_vec))*100:.2f}%.')\n",
    "print(f'The accuracy of Linear SVC on Test_set is {metrics.accuracy_score(y_test, linear_svc.predict(X_test_vec))*100:.2f}%.')"
   ]
  },
  {
   "cell_type": "code",
   "execution_count": 183,
   "id": "e9130a1c",
   "metadata": {},
   "outputs": [],
   "source": [
    "with open('.\\model\\linear_svc.pkl', 'wb') as file:\n",
    "    pickle.dump(linear_svc, file)"
   ]
  },
  {
   "cell_type": "code",
   "execution_count": 60,
   "id": "fdf5df0d",
   "metadata": {},
   "outputs": [
    {
     "name": "stdout",
     "output_type": "stream",
     "text": [
      "Fitting 5 folds for each of 24 candidates, totalling 120 fits\n",
      "[CV] END ..................C=0.01, loss=hinge, max_iter=1000; total time=   0.0s\n",
      "[CV] END ..................C=0.01, loss=hinge, max_iter=1000; total time=   0.0s\n",
      "[CV] END ..................C=0.01, loss=hinge, max_iter=1000; total time=   0.0s\n",
      "[CV] END ..................C=0.01, loss=hinge, max_iter=1000; total time=   0.0s\n",
      "[CV] END ..................C=0.01, loss=hinge, max_iter=1000; total time=   0.0s\n",
      "[CV] END ..................C=0.01, loss=hinge, max_iter=5000; total time=   0.0s\n",
      "[CV] END ..................C=0.01, loss=hinge, max_iter=5000; total time=   0.0s\n",
      "[CV] END ..................C=0.01, loss=hinge, max_iter=5000; total time=   0.0s\n",
      "[CV] END ..................C=0.01, loss=hinge, max_iter=5000; total time=   0.0s\n",
      "[CV] END ..................C=0.01, loss=hinge, max_iter=5000; total time=   0.0s\n",
      "[CV] END .................C=0.01, loss=hinge, max_iter=10000; total time=   0.0s\n",
      "[CV] END .................C=0.01, loss=hinge, max_iter=10000; total time=   0.0s\n",
      "[CV] END .................C=0.01, loss=hinge, max_iter=10000; total time=   0.0s\n",
      "[CV] END .................C=0.01, loss=hinge, max_iter=10000; total time=   0.0s\n",
      "[CV] END .................C=0.01, loss=hinge, max_iter=10000; total time=   0.0s\n",
      "[CV] END ..........C=0.01, loss=squared_hinge, max_iter=1000; total time=   0.1s\n",
      "[CV] END ..........C=0.01, loss=squared_hinge, max_iter=1000; total time=   0.1s\n",
      "[CV] END ..........C=0.01, loss=squared_hinge, max_iter=1000; total time=   0.1s\n",
      "[CV] END ..........C=0.01, loss=squared_hinge, max_iter=1000; total time=   0.1s\n",
      "[CV] END ..........C=0.01, loss=squared_hinge, max_iter=1000; total time=   0.1s\n",
      "[CV] END ..........C=0.01, loss=squared_hinge, max_iter=5000; total time=   0.1s\n",
      "[CV] END ..........C=0.01, loss=squared_hinge, max_iter=5000; total time=   0.1s\n",
      "[CV] END ..........C=0.01, loss=squared_hinge, max_iter=5000; total time=   0.1s\n",
      "[CV] END ..........C=0.01, loss=squared_hinge, max_iter=5000; total time=   0.1s\n",
      "[CV] END ..........C=0.01, loss=squared_hinge, max_iter=5000; total time=   0.1s\n",
      "[CV] END .........C=0.01, loss=squared_hinge, max_iter=10000; total time=   0.1s\n",
      "[CV] END .........C=0.01, loss=squared_hinge, max_iter=10000; total time=   0.1s\n",
      "[CV] END .........C=0.01, loss=squared_hinge, max_iter=10000; total time=   0.1s\n",
      "[CV] END .........C=0.01, loss=squared_hinge, max_iter=10000; total time=   0.1s\n",
      "[CV] END .........C=0.01, loss=squared_hinge, max_iter=10000; total time=   0.1s\n",
      "[CV] END ...................C=0.1, loss=hinge, max_iter=1000; total time=   0.1s\n",
      "[CV] END ...................C=0.1, loss=hinge, max_iter=1000; total time=   0.0s\n",
      "[CV] END ...................C=0.1, loss=hinge, max_iter=1000; total time=   0.0s\n",
      "[CV] END ...................C=0.1, loss=hinge, max_iter=1000; total time=   0.0s\n",
      "[CV] END ...................C=0.1, loss=hinge, max_iter=1000; total time=   0.1s\n",
      "[CV] END ...................C=0.1, loss=hinge, max_iter=5000; total time=   0.0s\n",
      "[CV] END ...................C=0.1, loss=hinge, max_iter=5000; total time=   0.1s\n",
      "[CV] END ...................C=0.1, loss=hinge, max_iter=5000; total time=   0.0s\n",
      "[CV] END ...................C=0.1, loss=hinge, max_iter=5000; total time=   0.0s\n",
      "[CV] END ...................C=0.1, loss=hinge, max_iter=5000; total time=   0.0s\n",
      "[CV] END ..................C=0.1, loss=hinge, max_iter=10000; total time=   0.1s\n",
      "[CV] END ..................C=0.1, loss=hinge, max_iter=10000; total time=   0.0s\n",
      "[CV] END ..................C=0.1, loss=hinge, max_iter=10000; total time=   0.0s\n",
      "[CV] END ..................C=0.1, loss=hinge, max_iter=10000; total time=   0.0s\n",
      "[CV] END ..................C=0.1, loss=hinge, max_iter=10000; total time=   0.0s\n",
      "[CV] END ...........C=0.1, loss=squared_hinge, max_iter=1000; total time=   0.1s\n",
      "[CV] END ...........C=0.1, loss=squared_hinge, max_iter=1000; total time=   0.1s\n",
      "[CV] END ...........C=0.1, loss=squared_hinge, max_iter=1000; total time=   0.1s\n",
      "[CV] END ...........C=0.1, loss=squared_hinge, max_iter=1000; total time=   0.1s\n",
      "[CV] END ...........C=0.1, loss=squared_hinge, max_iter=1000; total time=   0.1s\n",
      "[CV] END ...........C=0.1, loss=squared_hinge, max_iter=5000; total time=   0.1s\n",
      "[CV] END ...........C=0.1, loss=squared_hinge, max_iter=5000; total time=   0.1s\n",
      "[CV] END ...........C=0.1, loss=squared_hinge, max_iter=5000; total time=   0.1s\n",
      "[CV] END ...........C=0.1, loss=squared_hinge, max_iter=5000; total time=   0.1s\n",
      "[CV] END ...........C=0.1, loss=squared_hinge, max_iter=5000; total time=   0.1s\n",
      "[CV] END ..........C=0.1, loss=squared_hinge, max_iter=10000; total time=   0.1s\n",
      "[CV] END ..........C=0.1, loss=squared_hinge, max_iter=10000; total time=   0.1s\n",
      "[CV] END ..........C=0.1, loss=squared_hinge, max_iter=10000; total time=   0.1s\n",
      "[CV] END ..........C=0.1, loss=squared_hinge, max_iter=10000; total time=   0.1s\n",
      "[CV] END ..........C=0.1, loss=squared_hinge, max_iter=10000; total time=   0.1s\n",
      "[CV] END ...................C=0.5, loss=hinge, max_iter=1000; total time=   0.1s\n",
      "[CV] END ...................C=0.5, loss=hinge, max_iter=1000; total time=   0.3s\n",
      "[CV] END ...................C=0.5, loss=hinge, max_iter=1000; total time=   0.2s\n",
      "[CV] END ...................C=0.5, loss=hinge, max_iter=1000; total time=   0.2s\n",
      "[CV] END ...................C=0.5, loss=hinge, max_iter=1000; total time=   0.1s\n",
      "[CV] END ...................C=0.5, loss=hinge, max_iter=5000; total time=   0.1s\n",
      "[CV] END ...................C=0.5, loss=hinge, max_iter=5000; total time=   0.2s\n",
      "[CV] END ...................C=0.5, loss=hinge, max_iter=5000; total time=   0.2s\n",
      "[CV] END ...................C=0.5, loss=hinge, max_iter=5000; total time=   0.2s\n",
      "[CV] END ...................C=0.5, loss=hinge, max_iter=5000; total time=   0.1s\n",
      "[CV] END ..................C=0.5, loss=hinge, max_iter=10000; total time=   0.1s\n",
      "[CV] END ..................C=0.5, loss=hinge, max_iter=10000; total time=   0.2s\n",
      "[CV] END ..................C=0.5, loss=hinge, max_iter=10000; total time=   0.3s\n",
      "[CV] END ..................C=0.5, loss=hinge, max_iter=10000; total time=   0.2s\n",
      "[CV] END ..................C=0.5, loss=hinge, max_iter=10000; total time=   0.2s\n",
      "[CV] END ...........C=0.5, loss=squared_hinge, max_iter=1000; total time=   0.2s\n",
      "[CV] END ...........C=0.5, loss=squared_hinge, max_iter=1000; total time=   0.2s\n",
      "[CV] END ...........C=0.5, loss=squared_hinge, max_iter=1000; total time=   0.2s\n",
      "[CV] END ...........C=0.5, loss=squared_hinge, max_iter=1000; total time=   0.2s\n",
      "[CV] END ...........C=0.5, loss=squared_hinge, max_iter=1000; total time=   0.2s\n",
      "[CV] END ...........C=0.5, loss=squared_hinge, max_iter=5000; total time=   0.2s\n",
      "[CV] END ...........C=0.5, loss=squared_hinge, max_iter=5000; total time=   0.2s\n",
      "[CV] END ...........C=0.5, loss=squared_hinge, max_iter=5000; total time=   0.2s\n",
      "[CV] END ...........C=0.5, loss=squared_hinge, max_iter=5000; total time=   0.2s\n",
      "[CV] END ...........C=0.5, loss=squared_hinge, max_iter=5000; total time=   0.2s\n",
      "[CV] END ..........C=0.5, loss=squared_hinge, max_iter=10000; total time=   0.2s\n",
      "[CV] END ..........C=0.5, loss=squared_hinge, max_iter=10000; total time=   0.2s\n",
      "[CV] END ..........C=0.5, loss=squared_hinge, max_iter=10000; total time=   0.2s\n",
      "[CV] END ..........C=0.5, loss=squared_hinge, max_iter=10000; total time=   0.2s\n",
      "[CV] END ..........C=0.5, loss=squared_hinge, max_iter=10000; total time=   0.2s\n",
      "[CV] END .....................C=1, loss=hinge, max_iter=1000; total time=   0.2s\n",
      "[CV] END .....................C=1, loss=hinge, max_iter=1000; total time=   0.5s\n",
      "[CV] END .....................C=1, loss=hinge, max_iter=1000; total time=   1.9s\n",
      "[CV] END .....................C=1, loss=hinge, max_iter=1000; total time=   0.4s\n",
      "[CV] END .....................C=1, loss=hinge, max_iter=1000; total time=   0.3s\n",
      "[CV] END .....................C=1, loss=hinge, max_iter=5000; total time=   0.5s\n",
      "[CV] END .....................C=1, loss=hinge, max_iter=5000; total time=   0.5s\n",
      "[CV] END .....................C=1, loss=hinge, max_iter=5000; total time=   2.5s\n",
      "[CV] END .....................C=1, loss=hinge, max_iter=5000; total time=   0.8s\n",
      "[CV] END .....................C=1, loss=hinge, max_iter=5000; total time=   0.6s\n",
      "[CV] END ....................C=1, loss=hinge, max_iter=10000; total time=   0.6s\n"
     ]
    },
    {
     "name": "stdout",
     "output_type": "stream",
     "text": [
      "[CV] END ....................C=1, loss=hinge, max_iter=10000; total time=   0.7s\n",
      "[CV] END ....................C=1, loss=hinge, max_iter=10000; total time=   2.2s\n",
      "[CV] END ....................C=1, loss=hinge, max_iter=10000; total time=   0.5s\n",
      "[CV] END ....................C=1, loss=hinge, max_iter=10000; total time=   0.4s\n",
      "[CV] END .............C=1, loss=squared_hinge, max_iter=1000; total time=   0.3s\n",
      "[CV] END .............C=1, loss=squared_hinge, max_iter=1000; total time=   0.3s\n",
      "[CV] END .............C=1, loss=squared_hinge, max_iter=1000; total time=   0.3s\n",
      "[CV] END .............C=1, loss=squared_hinge, max_iter=1000; total time=   0.3s\n",
      "[CV] END .............C=1, loss=squared_hinge, max_iter=1000; total time=   0.3s\n",
      "[CV] END .............C=1, loss=squared_hinge, max_iter=5000; total time=   0.3s\n",
      "[CV] END .............C=1, loss=squared_hinge, max_iter=5000; total time=   0.3s\n",
      "[CV] END .............C=1, loss=squared_hinge, max_iter=5000; total time=   0.3s\n",
      "[CV] END .............C=1, loss=squared_hinge, max_iter=5000; total time=   0.3s\n",
      "[CV] END .............C=1, loss=squared_hinge, max_iter=5000; total time=   0.3s\n",
      "[CV] END ............C=1, loss=squared_hinge, max_iter=10000; total time=   0.3s\n",
      "[CV] END ............C=1, loss=squared_hinge, max_iter=10000; total time=   0.3s\n",
      "[CV] END ............C=1, loss=squared_hinge, max_iter=10000; total time=   0.3s\n",
      "[CV] END ............C=1, loss=squared_hinge, max_iter=10000; total time=   0.3s\n",
      "[CV] END ............C=1, loss=squared_hinge, max_iter=10000; total time=   0.3s\n",
      "{'C': 0.5, 'loss': 'squared_hinge', 'max_iter': 1000}\n",
      "Accuracy : 90.13%\n",
      "Classification Report: \n",
      "               precision    recall  f1-score   support\n",
      "\n",
      "    Negative       0.91      0.89      0.90      5044\n",
      "    Positive       0.89      0.91      0.90      4956\n",
      "\n",
      "    accuracy                           0.90     10000\n",
      "   macro avg       0.90      0.90      0.90     10000\n",
      "weighted avg       0.90      0.90      0.90     10000\n",
      "\n",
      "Confusion Matrix: \n",
      " [[4491  553]\n",
      " [ 434 4522]]\n"
     ]
    }
   ],
   "source": [
    "grid = {\n",
    "    'C': [0.01, 0.1, 0.5, 1], \n",
    "    'loss': ['hinge', 'squared_hinge'],\n",
    "    'max_iter': [1000, 5000, 10000]\n",
    "}\n",
    "\n",
    "grid_CV_svc = GridSearchCV(linear_svc, grid, cv=5, scoring='accuracy', verbose=2)\n",
    "grid_CV_svc.fit(X_train_vec, y_train)\n",
    "best_param = grid_CV_svc.best_params_\n",
    "print(best_param)\n",
    "\n",
    "final_svc = grid_CV_svc.best_estimator_\n",
    "y_pred = final_svc.predict(X_test_vec)\n",
    "\n",
    "accuracy = metrics.accuracy_score(y_pred, y_test)\n",
    "print(f'Accuracy : {accuracy*100}%')\n",
    "print(f\"Classification Report: \\n {classification_report(y_test, y_pred,target_names=['Negative','Positive'])}\")\n",
    "print(f'Confusion Matrix: \\n {confusion_matrix(y_test, y_pred)}')"
   ]
  },
  {
   "cell_type": "code",
   "execution_count": 64,
   "id": "14a5b595",
   "metadata": {},
   "outputs": [
    {
     "name": "stdout",
     "output_type": "stream",
     "text": [
      "The accuracy of Final Linear SVC on Train_set is 97.23%.\n",
      "The accuracy of Final Linear SVC on Test_set is 90.13%.\n"
     ]
    }
   ],
   "source": [
    "print(f'The accuracy of Final Linear SVC on Train_set is {metrics.accuracy_score(y_train, final_svc.predict(X_train_vec))*100:.2f}%.')\n",
    "print(f'The accuracy of Final Linear SVC on Test_set is {metrics.accuracy_score(y_test, final_svc.predict(X_test_vec))*100:.2f}%.')"
   ]
  },
  {
   "cell_type": "code",
   "execution_count": 184,
   "id": "b7c05cf7",
   "metadata": {},
   "outputs": [],
   "source": [
    "with open('.\\model\\\\final_svc.pkl', 'wb') as file:\n",
    "    pickle.dump(final_svc, file)"
   ]
  },
  {
   "cell_type": "markdown",
   "id": "bbb7e1b0",
   "metadata": {},
   "source": [
    "#### Conclusion\n",
    "From the above two model, linear SVC is giving higher accuracy but the model is overfitted. So, the optimal model is final logistic regression which is less overfitted compared to linear SVC."
   ]
  },
  {
   "cell_type": "markdown",
   "id": "e47bcf65",
   "metadata": {},
   "source": [
    "## Using RNN(LSTM) with PyTorch"
   ]
  },
  {
   "cell_type": "markdown",
   "id": "fbe8808c",
   "metadata": {},
   "source": [
    "We can also predict sentiment using RNN which works best for sequential data such as text."
   ]
  },
  {
   "cell_type": "code",
   "execution_count": 119,
   "id": "c00bf48a",
   "metadata": {},
   "outputs": [],
   "source": [
    "import torch\n",
    "import torch.nn as nn\n",
    "import torch.nn.functional as F\n",
    "from torch.utils.data import TensorDataset, DataLoader\n",
    "from collections import Counter\n",
    "from tqdm  import tqdm"
   ]
  },
  {
   "cell_type": "code",
   "execution_count": 120,
   "id": "840c505b",
   "metadata": {},
   "outputs": [],
   "source": [
    "device = torch.device('cuda' if torch.cuda.is_available() else 'cpu')"
   ]
  },
  {
   "cell_type": "markdown",
   "id": "d437170f",
   "metadata": {},
   "source": [
    "#### Tokenization\n",
    "We can also use tfidf data directly but"
   ]
  },
  {
   "cell_type": "code",
   "execution_count": 149,
   "id": "f8c8f9a3",
   "metadata": {},
   "outputs": [
    {
     "data": {
      "text/plain": [
       "83464"
      ]
     },
     "execution_count": 149,
     "metadata": {},
     "output_type": "execute_result"
    }
   ],
   "source": [
    "word_list=[]\n",
    "for text in corpus_train:\n",
    "    for word in text.split():\n",
    "        word_list.append(word)\n",
    "        \n",
    "corpus = Counter(word_list)\n",
    "\n",
    "len(corpus)"
   ]
  },
  {
   "cell_type": "code",
   "execution_count": 150,
   "id": "41eaaa02",
   "metadata": {},
   "outputs": [],
   "source": [
    "# sorting on the basis of most common words\n",
    "corpus_ =sorted(corpus,key= corpus.get,reverse=True)[:10000]\n",
    "\n",
    "# creating a dict\n",
    "onehot_dict =  {w:i+1 for i,w in enumerate(corpus_)}"
   ]
  },
  {
   "cell_type": "code",
   "execution_count": 151,
   "id": "7dbb242f",
   "metadata": {},
   "outputs": [],
   "source": [
    "# tokenize\n",
    "X_train_token, X_test_token =[], []\n",
    "for text in corpus_train:\n",
    "    X_train_token.append([onehot_dict[word] for word in text.split() if word in onehot_dict.keys()])\n",
    "    \n",
    "for text in corpus_test:\n",
    "    X_test_token.append([onehot_dict[word] for word in text.split() if word in onehot_dict.keys()])\n",
    "    \n",
    "X_train_token = np.array(X_train_token)\n",
    "X_test_token = np.array(X_test_token)"
   ]
  },
  {
   "cell_type": "markdown",
   "id": "44fa6637",
   "metadata": {},
   "source": [
    "#### Analyzing review length"
   ]
  },
  {
   "cell_type": "code",
   "execution_count": 152,
   "id": "dcc20057",
   "metadata": {},
   "outputs": [
    {
     "data": {
      "image/png": "[encoded data removed]",
      "text/plain": [
       "<Figure size 640x480 with 1 Axes>"
      ]
     },
     "metadata": {},
     "output_type": "display_data"
    }
   ],
   "source": [
    "review_length = [len(i) for i in X_train_token]\n",
    "sns.histplot(pd.Series(review_length));"
   ]
  },
  {
   "cell_type": "code",
   "execution_count": 153,
   "id": "56ab4cf4",
   "metadata": {},
   "outputs": [
    {
     "data": {
      "text/plain": [
       "count    40000.000000\n",
       "mean       108.623525\n",
       "std         80.540962\n",
       "min          3.000000\n",
       "25%         59.000000\n",
       "50%         81.000000\n",
       "75%        132.000000\n",
       "max       1120.000000\n",
       "dtype: float64"
      ]
     },
     "execution_count": 153,
     "metadata": {},
     "output_type": "execute_result"
    }
   ],
   "source": [
    "pd.Series(review_length).describe()"
   ]
  },
  {
   "cell_type": "markdown",
   "id": "b3b52b04",
   "metadata": {},
   "source": [
    "#### Padding\n",
    "Padding every sequence to max length. From the above histogram and description, we can see that many of the review are aroud length 100 and not much of the review are of length more than 500. So, we take `max_length` as 500 and discard review above length 500."
   ]
  },
  {
   "cell_type": "code",
   "execution_count": 154,
   "id": "39c68ebd",
   "metadata": {},
   "outputs": [],
   "source": [
    "def padding(data, seq_len=500):\n",
    "    features = np.zeros((len(data), seq_len),dtype=int)\n",
    "    for i, review in enumerate(data):\n",
    "        features[i, -len(review):] = np.array(review)[:seq_len]\n",
    "        \n",
    "    return features"
   ]
  },
  {
   "cell_type": "code",
   "execution_count": 155,
   "id": "651618c5",
   "metadata": {},
   "outputs": [],
   "source": [
    "X_train_pad = padding(X_train_token)\n",
    "X_test_pad = padding(X_test_token)"
   ]
  },
  {
   "cell_type": "markdown",
   "id": "19ea4371",
   "metadata": {},
   "source": [
    "#### Batching the dataset "
   ]
  },
  {
   "cell_type": "code",
   "execution_count": 156,
   "id": "a73418d5",
   "metadata": {},
   "outputs": [],
   "source": [
    "# Create tensor dataset\n",
    "training_data = TensorDataset(torch.from_numpy(X_train_pad),torch.from_numpy(y_train))\n",
    "testing_data = TensorDataset(torch.from_numpy(X_test_pad),torch.from_numpy(y_test))\n",
    "\n",
    "# Dataloader\n",
    "batch_size=50\n",
    "train_loader = DataLoader(training_data, batch_size=batch_size, shuffle=True)\n",
    "test_loader = DataLoader(testing_data, batch_size=batch_size)"
   ]
  },
  {
   "cell_type": "code",
   "execution_count": 157,
   "id": "57ab5f47",
   "metadata": {},
   "outputs": [
    {
     "data": {
      "text/plain": [
       "(tensor([[   0,    0,    0,  ...,   93,  837, 1537],\n",
       "         [   0,    0,    0,  ...,   70,    1, 3437],\n",
       "         [   0,    0,    0,  ...,  411, 2346, 6069],\n",
       "         ...,\n",
       "         [   0,    0,    0,  ...,  126,  381,    3],\n",
       "         [   0,    0,    0,  ..., 1010,  600, 6500],\n",
       "         [   0,    0,    0,  ...,   46,   25,  100]], dtype=torch.int32),\n",
       " tensor([1, 1, 0, 0, 1, 0, 0, 0, 0, 0, 1, 0, 0, 0, 1, 0, 1, 0, 1, 1, 0, 0, 1, 0,\n",
       "         0, 0, 0, 1, 1, 1, 1, 0, 0, 0, 1, 0, 0, 1, 0, 1, 1, 0, 1, 0, 1, 1, 0, 1,\n",
       "         1, 0]))"
      ]
     },
     "execution_count": 157,
     "metadata": {},
     "output_type": "execute_result"
    }
   ],
   "source": [
    "# One batch of training data\n",
    "dataiter = iter(train_loader)\n",
    "sample_x, sample_y =next(dataiter)\n",
    "\n",
    "sample_x, sample_y"
   ]
  },
  {
   "cell_type": "markdown",
   "id": "5181e6d4",
   "metadata": {},
   "source": [
    "#### Building Model"
   ]
  },
  {
   "cell_type": "code",
   "execution_count": 158,
   "id": "88dc412b",
   "metadata": {},
   "outputs": [],
   "source": [
    "class SentimentLSTM(nn.Module):\n",
    "    def __init__(self, no_layers, vocab_size, hidden_dim, embedding_dim):\n",
    "        super(SentimentLSTM, self).__init__()\n",
    "        self.output_dim = output_dim\n",
    "        self.hidden_dim = hidden_dim\n",
    "        \n",
    "        self.no_layers = no_layers\n",
    "        self.vocab_size = vocab_size\n",
    "        \n",
    "        # embedding and LSTM layers\n",
    "        self.embedding = nn.Embedding(vocab_size, embedding_dim)\n",
    "        \n",
    "        # LSTM\n",
    "        self.lstm = nn.LSTM(input_size=embedding_dim, \n",
    "                           hidden_size=self.hidden_dim,\n",
    "                           num_layers=no_layers,\n",
    "                           batch_first=True)\n",
    "        # dropout layer\n",
    "        self.dropout = nn.Dropout(0.3)\n",
    "         # linear and sigmoid layer\n",
    "        self.fc = nn.Linear(self.hidden_dim, output_dim)\n",
    "        self.sig = nn.Sigmoid()\n",
    "        \n",
    "    def forward(self, x, hidden):\n",
    "        batch_size = x.size(0)\n",
    "        embeds = self.embedding(x)\n",
    "        \n",
    "        lstm_out, hidden = self.lstm(embeds, hidden)\n",
    "        \n",
    "        lstm_out = lstm_out.contiguous().view(-1, self.hidden_dim)\n",
    "        # dropout and fully connected layer\n",
    "        out = self.dropout(lstm_out)\n",
    "        out = self.fc(out)\n",
    "        \n",
    "        # sigmoid function\n",
    "        sig_out = self.sig(out)\n",
    "        # reshape to be batch_size first\n",
    "        sig_out = sig_out.view(batch_size, -1)\n",
    "        \n",
    "        sig_out = sig_out[:, -1] # get last batch of labels\n",
    "        \n",
    "        # return last sigmoid output and hidden state\n",
    "        return sig_out, hidden\n",
    "    \n",
    "    def init_hidden(self, batch_size):\n",
    "        h0 = torch.zeros((self.no_layers, batch_size, self.hidden_dim)).to(device)\n",
    "        c0 = torch.zeros((self.no_layers, batch_size, self.hidden_dim)).to(device)\n",
    "        \n",
    "        hidden = (h0, c0)\n",
    "        return hidden"
   ]
  },
  {
   "cell_type": "code",
   "execution_count": 161,
   "id": "783011f2",
   "metadata": {},
   "outputs": [
    {
     "name": "stdout",
     "output_type": "stream",
     "text": [
      "SentimentLSTM(\n",
      "  (embedding): Embedding(10001, 64)\n",
      "  (lstm): LSTM(64, 256, num_layers=2, batch_first=True)\n",
      "  (dropout): Dropout(p=0.3, inplace=False)\n",
      "  (fc): Linear(in_features=256, out_features=1, bias=True)\n",
      "  (sig): Sigmoid()\n",
      ")\n"
     ]
    }
   ],
   "source": [
    "no_layers = 2\n",
    "vocab_size = 10000 + 1 #extra 1 for padding\n",
    "embedding_dim = 64\n",
    "output_dim = 1\n",
    "hidden_dim = 256\n",
    "\n",
    "model = SentimentLSTM(no_layers,vocab_size,hidden_dim,embedding_dim)\n",
    "\n",
    "\n",
    "#moving to gpu\n",
    "model.to(device)\n",
    "\n",
    "print(model)"
   ]
  },
  {
   "cell_type": "code",
   "execution_count": 162,
   "id": "f2271bed",
   "metadata": {},
   "outputs": [],
   "source": [
    "# loss and optimization functions\n",
    "lr=0.001\n",
    "\n",
    "criterion = nn.BCELoss()\n",
    "\n",
    "optimizer = torch.optim.Adam(model.parameters(), lr=lr)\n",
    "\n",
    "# function to predict accuracy\n",
    "def acc(pred, label):\n",
    "    pred = torch.round(pred.squeeze())\n",
    "    return torch.sum(pred==label.squeeze()).item()"
   ]
  },
  {
   "cell_type": "code",
   "execution_count": 163,
   "id": "0a465e67",
   "metadata": {},
   "outputs": [
    {
     "name": "stdout",
     "output_type": "stream",
     "text": [
      "Epoch 1\n",
      "train_loss : 0.54202321998775 val_loss : 0.4053731870651245\n",
      "train_accuracy : 72.6875 val_accuracy : 81.69\n",
      "Validation loss decreased (inf --> 0.405373).  Saving model ...\n",
      "==================================================\n",
      "Epoch 2\n",
      "train_loss : 0.3608425719011575 val_loss : 0.3641333021968603\n",
      "train_accuracy : 84.55 val_accuracy : 84.25\n",
      "Validation loss decreased (0.405373 --> 0.364133).  Saving model ...\n",
      "==================================================\n",
      "Epoch 3\n",
      "train_loss : 0.28151009416207673 val_loss : 0.302841951623559\n",
      "train_accuracy : 88.6 val_accuracy : 87.58\n",
      "Validation loss decreased (0.364133 --> 0.302842).  Saving model ...\n",
      "==================================================\n",
      "Epoch 4\n",
      "train_loss : 0.23445973569527268 val_loss : 0.2875718029588461\n",
      "train_accuracy : 90.815 val_accuracy : 87.6\n",
      "Validation loss decreased (0.302842 --> 0.287572).  Saving model ...\n",
      "==================================================\n",
      "Epoch 5\n",
      "train_loss : 0.19792760391253977 val_loss : 0.30335527036339044\n",
      "train_accuracy : 92.4825 val_accuracy : 88.03999999999999\n",
      "==================================================\n"
     ]
    }
   ],
   "source": [
    "clip = 5\n",
    "epochs = 5 \n",
    "valid_loss_min = np.Inf\n",
    "# train for some number of epochs\n",
    "epoch_tr_loss,epoch_tst_loss = [],[]\n",
    "epoch_tr_acc,epoch_tst_acc = [],[]\n",
    "\n",
    "for epoch in range(epochs):\n",
    "    train_losses = []\n",
    "    train_acc = 0.0\n",
    "    \n",
    "    model.train()\n",
    "    \n",
    "    # initialize hidden state\n",
    "    h = model.init_hidden(batch_size)\n",
    "    \n",
    "    for inputs, labels in train_loader:\n",
    "        \n",
    "        inputs = inputs.to(device)\n",
    "        labels = labels.to(device)\n",
    "        \n",
    "        # Creating new variables for the hidden state, otherwise\n",
    "        # we'd backprop through the entire training history\n",
    "        h = tuple([each.data for each in h])\n",
    "        \n",
    "        model.zero_grad()\n",
    "        \n",
    "        output, h = model(inputs, h)\n",
    "        \n",
    "        # calculate the loss and perform backprop\n",
    "        loss = criterion(output.squeeze(), labels.float())\n",
    "        \n",
    "        loss.backward()\n",
    "        train_losses.append(loss.item())\n",
    "        \n",
    "        # calculating accuracy\n",
    "        accuracy = acc(output,labels)\n",
    "        train_acc += accuracy\n",
    "        #`clip_grad_norm` helps prevent the exploding gradient problem in RNNs / LSTMs.\n",
    "        nn.utils.clip_grad_norm_(model.parameters(), clip)\n",
    "        optimizer.step()\n",
    "        \n",
    "    test_h = model.init_hidden(batch_size)\n",
    "    test_losses = []\n",
    "    test_acc = 0.0\n",
    "    \n",
    "    model.eval()\n",
    "    \n",
    "    for inputs, labels in test_loader:\n",
    "        test_h = tuple([each.data for each in test_h])\n",
    "        \n",
    "        inputs, labels = inputs.to(device), labels.to(device)\n",
    "        \n",
    "        output, test_h = model(inputs, test_h)\n",
    "        test_loss = criterion(output.squeeze(), labels.float())\n",
    "\n",
    "        test_losses.append(test_loss.item())\n",
    "\n",
    "        accuracy = acc(output,labels)\n",
    "        test_acc += accuracy\n",
    "            \n",
    "    epoch_train_loss = np.mean(train_losses)\n",
    "    epoch_test_loss = np.mean(test_losses)\n",
    "    epoch_train_acc = train_acc/len(train_loader.dataset)\n",
    "    epoch_test_acc = test_acc/len(test_loader.dataset)\n",
    "    epoch_tr_loss.append(epoch_train_loss)\n",
    "    epoch_tst_loss.append(epoch_test_loss)\n",
    "    epoch_tr_acc.append(epoch_train_acc)\n",
    "    epoch_tst_acc.append(epoch_test_acc)\n",
    "    print(f'Epoch {epoch+1}') \n",
    "    print(f'train_loss : {epoch_train_loss} val_loss : {epoch_test_loss}')\n",
    "    print(f'train_accuracy : {epoch_train_acc*100} val_accuracy : {epoch_test_acc*100}')\n",
    "    if epoch_test_loss <= valid_loss_min:\n",
    "        torch.save(model.state_dict(), '.\\model\\state_dict.pt')\n",
    "        print('Validation loss decreased ({:.6f} --> {:.6f}).  Saving model ...'.format(valid_loss_min,epoch_test_loss))\n",
    "        valid_loss_min = epoch_test_loss\n",
    "    print(25*'==')"
   ]
  },
  {
   "cell_type": "code",
   "execution_count": 164,
   "id": "e03c8d32",
   "metadata": {},
   "outputs": [
    {
     "data": {
      "image/png": "[encoded data removed]",
      "text/plain": [
       "<Figure size 1000x600 with 2 Axes>"
      ]
     },
     "metadata": {},
     "output_type": "display_data"
    }
   ],
   "source": [
    "fig = plt.figure(figsize=(10, 6))\n",
    "\n",
    "plt.subplot(1, 2, 1)\n",
    "plt.plot(epoch_tr_acc, label='Train Acc')\n",
    "plt.plot(epoch_tst_acc, label='Testing Acc')\n",
    "plt.title(\"Accuracy\")\n",
    "plt.legend()\n",
    "plt.grid()\n",
    "\n",
    "plt.subplot(1, 2, 2)\n",
    "plt.plot(epoch_tr_loss, label='Train loss')\n",
    "plt.plot(epoch_tst_loss, label='Testing loss')\n",
    "plt.title(\"Loss\")\n",
    "plt.legend()\n",
    "plt.grid()\n",
    "\n",
    "plt.show()"
   ]
  },
  {
   "cell_type": "code",
   "execution_count": 169,
   "id": "09ce8643",
   "metadata": {},
   "outputs": [],
   "source": [
    "def predict_text(text):\n",
    "    soup = BeautifulSoup(text, \"html.parser\")\n",
    "    review = soup.get_text()\n",
    "    review = re.sub('\\[[^]]*\\]', ' ', review)\n",
    "    review = re.sub('[^a-zA-Z]', ' ', review)\n",
    "    review = review.lower()\n",
    "    review = review.split()\n",
    "    review = [word for word in review if not word in set(stopwords.words('english'))]\n",
    "    review = [lem.lemmatize(word) for word in review]\n",
    "    review = ' '.join(review)\n",
    "    word_seq = np.array([onehot_dict[word] for word in review.split() if word in onehot_dict.keys()])\n",
    "    word_seq = np.expand_dims(word_seq,axis=0)\n",
    "    pad =  torch.from_numpy(padding(word_seq))\n",
    "    inputs = pad.to(device)\n",
    "    batch_size = 1\n",
    "    h = model.init_hidden(batch_size)\n",
    "    h = tuple([each.data for each in h])\n",
    "    output, h = model(inputs, h)\n",
    "    if output.item()>0.50:\n",
    "        return('Positive')\n",
    "    else:\n",
    "        return('Negative')"
   ]
  },
  {
   "cell_type": "code",
   "execution_count": 35,
   "id": "661b641f",
   "metadata": {},
   "outputs": [],
   "source": [
    "def predict_lr(text):\n",
    "    corpus = []\n",
    "    soup = BeautifulSoup(text, \"html.parser\")\n",
    "    review = soup.get_text()\n",
    "    review = re.sub('\\[[^]]*\\]', ' ', review)\n",
    "    review = re.sub('[^a-zA-Z]', ' ', review)\n",
    "    review = review.lower()\n",
    "    review = review.split()\n",
    "    review = [word for word in review if not word in set(stopwords.words('english'))]\n",
    "    lem = WordNetLemmatizer()\n",
    "    review = [lem.lemmatize(word) for word in review]\n",
    "    review = ' '.join(review)\n",
    "    corpus.append(review)\n",
    "    review_tf_idf = tfidf.transform(corpus)\n",
    "    review_tf_idf.toarray()\n",
    "    \n",
    "    output = final_lr.predict(review_tf_idf)\n",
    "\n",
    "    if output.item() == 1:\n",
    "        print('Positive')\n",
    "    else:\n",
    "        print('Negative')"
   ]
  },
  {
   "cell_type": "code",
   "execution_count": 33,
   "id": "16fdc1bb",
   "metadata": {},
   "outputs": [],
   "source": [
    "text1 = 'Starting was not that great but as the movie progressed, the story become more interesting.'\n",
    "text2 = 'This is not what I expected when I watched the trailor of the movie. The story is so generic.'"
   ]
  },
  {
   "cell_type": "code",
   "execution_count": 171,
   "id": "b5bf2ef1",
   "metadata": {},
   "outputs": [
    {
     "data": {
      "text/plain": [
       "'Positive'"
      ]
     },
     "execution_count": 171,
     "metadata": {},
     "output_type": "execute_result"
    }
   ],
   "source": [
    "predict_text(text1)"
   ]
  },
  {
   "cell_type": "code",
   "execution_count": 172,
   "id": "8a3cbca5",
   "metadata": {},
   "outputs": [
    {
     "data": {
      "text/plain": [
       "'Negative'"
      ]
     },
     "execution_count": 172,
     "metadata": {},
     "output_type": "execute_result"
    }
   ],
   "source": [
    "predict_text(text2)"
   ]
  },
  {
   "cell_type": "markdown",
   "id": "845bffbd",
   "metadata": {},
   "source": [
    "#### Conclusion\n",
    "Therefore, the model to predict the sentiment based on review has been completed.<br><br>\n",
    "We choose logistic regression as our final model to deploy which has the highest accuracy."
   ]
  },
  {
   "cell_type": "code",
   "execution_count": null,
   "id": "9a12b1d7",
   "metadata": {},
   "outputs": [],
   "source": []
  }
 ],
 "metadata": {
  "kernelspec": {
   "display_name": "Python 3 (ipykernel)",
   "language": "python",
   "name": "python3"
  },
  "language_info": {
   "codemirror_mode": {
    "name": "ipython",
    "version": 3
   },
   "file_extension": ".py",
   "mimetype": "text/x-python",
   "name": "python",
   "nbconvert_exporter": "python",
   "pygments_lexer": "ipython3",
   "version": "3.7.16"
  }
 },
 "nbformat": 4,
 "nbformat_minor": 5
}
